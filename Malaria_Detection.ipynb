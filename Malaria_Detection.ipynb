{
  "nbformat": 4,
  "nbformat_minor": 0,
  "metadata": {
    "colab": {
      "name": "Malaria-Detection.ipynb",
      "version": "0.3.2",
      "provenance": [],
      "include_colab_link": true
    },
    "kernelspec": {
      "name": "python3",
      "display_name": "Python 3"
    },
    "accelerator": "GPU"
  },
  "cells": [
    {
      "cell_type": "markdown",
      "metadata": {
        "id": "view-in-github",
        "colab_type": "text"
      },
      "source": [
        "<a href=\"https://colab.research.google.com/github/BhattacharyaSumit/Computer-Vision---Deep-Learning/blob/master/Malaria_Detection.ipynb\" target=\"_parent\"><img src=\"https://colab.research.google.com/assets/colab-badge.svg\" alt=\"Open In Colab\"/></a>"
      ]
    },
    {
      "cell_type": "code",
      "metadata": {
        "id": "Z7ErQFM0GBHi",
        "colab_type": "code",
        "outputId": "8654d2ea-0add-4be0-f309-cba40bb9951a",
        "colab": {
          "base_uri": "https://localhost:8080/",
          "height": 204
        }
      },
      "source": [
        "!wget https://ceb.nlm.nih.gov/proj/malaria/cell_images.zip"
      ],
      "execution_count": 0,
      "outputs": [
        {
          "output_type": "stream",
          "text": [
            "--2019-06-11 05:52:22--  https://ceb.nlm.nih.gov/proj/malaria/cell_images.zip\n",
            "Resolving ceb.nlm.nih.gov (ceb.nlm.nih.gov)... 130.14.52.15, 2607:f220:41e:7052::15\n",
            "Connecting to ceb.nlm.nih.gov (ceb.nlm.nih.gov)|130.14.52.15|:443... connected.\n",
            "HTTP request sent, awaiting response... 200 OK\n",
            "Length: 353452851 (337M) [application/zip]\n",
            "Saving to: ‘cell_images.zip’\n",
            "\n",
            "cell_images.zip     100%[===================>] 337.08M   171MB/s    in 2.0s    \n",
            "\n",
            "2019-06-11 05:52:25 (171 MB/s) - ‘cell_images.zip’ saved [353452851/353452851]\n",
            "\n"
          ],
          "name": "stdout"
        }
      ]
    },
    {
      "cell_type": "code",
      "metadata": {
        "id": "LPCoBSyPGHtH",
        "colab_type": "code",
        "colab": {}
      },
      "source": [
        "!unzip cell_images.zip"
      ],
      "execution_count": 0,
      "outputs": []
    },
    {
      "cell_type": "code",
      "metadata": {
        "id": "qq5AYpz4Gj-5",
        "colab_type": "code",
        "colab": {}
      },
      "source": [
        "import os"
      ],
      "execution_count": 0,
      "outputs": []
    },
    {
      "cell_type": "code",
      "metadata": {
        "id": "3wj2lQ1OHpGW",
        "colab_type": "code",
        "colab": {}
      },
      "source": [
        "mkdir malaria"
      ],
      "execution_count": 0,
      "outputs": []
    },
    {
      "cell_type": "code",
      "metadata": {
        "id": "Nw3SOSYcHdvm",
        "colab_type": "code",
        "colab": {}
      },
      "source": [
        "ORIG_INPUT_DATASET = \"cell_images\"\n",
        "BASE_PATH = \"malaria\"\n",
        "\n",
        "TRAIN_PATH = os.path.sep.join([BASE_PATH, \"training\"])\n",
        "VAL_PATH = os.path.sep.join([BASE_PATH, \"validation\"])\n",
        "TEST_PATH = os.path.sep.join([BASE_PATH, \"testing\"])\n",
        "\n",
        "TRAIN_SPLIT = 0.8\n",
        "VAL_SPLIT = 0.1"
      ],
      "execution_count": 0,
      "outputs": []
    },
    {
      "cell_type": "code",
      "metadata": {
        "id": "n2cqiu3tHynn",
        "colab_type": "code",
        "colab": {}
      },
      "source": [
        "from imutils import paths\n",
        "import random\n",
        "import shutil"
      ],
      "execution_count": 0,
      "outputs": []
    },
    {
      "cell_type": "code",
      "metadata": {
        "id": "A1E2BVcGIMOm",
        "colab_type": "code",
        "colab": {}
      },
      "source": [
        "imagePaths = list(paths.list_images(ORIG_INPUT_DATASET))\n",
        "random.seed(42)\n",
        "random.shuffle(imagePaths)"
      ],
      "execution_count": 0,
      "outputs": []
    },
    {
      "cell_type": "code",
      "metadata": {
        "id": "U0-Lbk_TI39U",
        "colab_type": "code",
        "colab": {}
      },
      "source": [
        "i = int(len(imagePaths) * TRAIN_SPLIT)\n",
        "trainPaths = imagePaths[:i]\n",
        "testPaths = imagePaths[i:]\n"
      ],
      "execution_count": 0,
      "outputs": []
    },
    {
      "cell_type": "code",
      "metadata": {
        "id": "rHFeckpxJo0y",
        "colab_type": "code",
        "colab": {}
      },
      "source": [
        "j = int(len(trainPaths) * VAL_SPLIT)\n",
        "valPaths = trainPaths[:j]\n",
        "trainPaths = trainPaths[j:]"
      ],
      "execution_count": 0,
      "outputs": []
    },
    {
      "cell_type": "code",
      "metadata": {
        "id": "a6B8lRJ7JyxM",
        "colab_type": "code",
        "colab": {}
      },
      "source": [
        "datasets = [\n",
        "\t(\"training\", trainPaths, TRAIN_PATH),\n",
        "\t(\"validation\", valPaths, VAL_PATH),\n",
        "\t(\"testing\", testPaths,  TEST_PATH)\n",
        "]"
      ],
      "execution_count": 0,
      "outputs": []
    },
    {
      "cell_type": "code",
      "metadata": {
        "id": "Ngqa2oSnhbIV",
        "colab_type": "code",
        "outputId": "8c8dd692-22bd-448a-fc55-af46787037df",
        "colab": {
          "base_uri": "https://localhost:8080/",
          "height": 34
        }
      },
      "source": [
        "imagePaths[0]"
      ],
      "execution_count": 0,
      "outputs": [
        {
          "output_type": "execute_result",
          "data": {
            "text/plain": [
              "'cell_images/Parasitized/C48P9thinF_IMG_20150721_161055_cell_199.png'"
            ]
          },
          "metadata": {
            "tags": []
          },
          "execution_count": 79
        }
      ]
    },
    {
      "cell_type": "code",
      "metadata": {
        "id": "FEt9txG6Jylw",
        "colab_type": "code",
        "colab": {}
      },
      "source": [
        "for (dType, imagePaths, baseOutput) in datasets:\n",
        "\t\n",
        "\t\n",
        "\tif not os.path.exists(baseOutput):\n",
        "\t\tos.makedirs(baseOutput)\n",
        "\n",
        "\t\n",
        "\tfor inputPath in imagePaths:\n",
        "\t\t\n",
        "\t\tfilename = inputPath.split(os.path.sep)[-1]\n",
        "\t\tlabel = inputPath.split(os.path.sep)[-2]\n",
        "\n",
        "\t\tlabelPath = os.path.sep.join([baseOutput, label])\n",
        "\n",
        "\t\tif not os.path.exists(labelPath):\n",
        "\t\t\tos.makedirs(labelPath)\n",
        "\n",
        "\t\tp = os.path.sep.join([labelPath, filename])\n",
        "\t\tshutil.copy2(inputPath, p)"
      ],
      "execution_count": 0,
      "outputs": []
    },
    {
      "cell_type": "code",
      "metadata": {
        "id": "0RVr2Lm1NEnz",
        "colab_type": "code",
        "outputId": "ca844d4b-0ad0-4f29-d1df-5ff302be47f9",
        "colab": {
          "base_uri": "https://localhost:8080/",
          "height": 34
        }
      },
      "source": [
        "from keras.layers.normalization import BatchNormalization\n",
        "from keras.layers.convolutional import Conv2D\n",
        "from keras.layers.convolutional import AveragePooling2D\n",
        "from keras.layers.convolutional import MaxPooling2D\n",
        "from keras.layers.convolutional import ZeroPadding2D\n",
        "from keras.layers.core import Activation\n",
        "from keras.layers.core import Dense\n",
        "from keras.layers import Flatten\n",
        "from keras.layers import Input\n",
        "from keras.models import Model\n",
        "from keras.layers import add\n",
        "from keras.regularizers import l2\n",
        "from keras import backend as K"
      ],
      "execution_count": 0,
      "outputs": [
        {
          "output_type": "stream",
          "text": [
            "Using TensorFlow backend.\n"
          ],
          "name": "stderr"
        }
      ]
    },
    {
      "cell_type": "code",
      "metadata": {
        "id": "9gGMmtE6N8S3",
        "colab_type": "code",
        "colab": {}
      },
      "source": [
        "class ResNet:\n",
        "\t@staticmethod\n",
        "\tdef residual_module(data, K, stride, chanDim, red=False,\n",
        "\t\treg=0.0001, bnEps=2e-5, bnMom=0.9):\n",
        "\t\t# the shortcut branch of the ResNet module should be initialized as the input (identity) data\n",
        "\t\tshortcut = data\n",
        "\n",
        "\t\t# the first block of the ResNet module are the 1x1 CONVs\n",
        "\t\tbn1 = BatchNormalization(axis=chanDim, epsilon=bnEps,\n",
        "\t\t\tmomentum=bnMom)(data)\n",
        "\t\tact1 = Activation(\"relu\")(bn1)\n",
        "\t\tconv1 = Conv2D(int(K * 0.25), (1, 1), use_bias=False,\n",
        "\t\t\tkernel_regularizer=l2(reg))(act1)\n",
        "\n",
        "\t\t# the second block of the ResNet module are the 3x3 CONVs\n",
        "\t\tbn2 = BatchNormalization(axis=chanDim, epsilon=bnEps,\n",
        "\t\t\tmomentum=bnMom)(conv1)\n",
        "\t\tact2 = Activation(\"relu\")(bn2)\n",
        "\t\tconv2 = Conv2D(int(K * 0.25), (3, 3), strides=stride,\n",
        "\t\t\tpadding=\"same\", use_bias=False,\n",
        "\t\t\tkernel_regularizer=l2(reg))(act2)\n",
        "\n",
        "\t\t# the third block of the ResNet module is another set of 1x1 CONVs\n",
        "\t\tbn3 = BatchNormalization(axis=chanDim, epsilon=bnEps,\n",
        "\t\t\tmomentum=bnMom)(conv2)\n",
        "\t\tact3 = Activation(\"relu\")(bn3)\n",
        "\t\tconv3 = Conv2D(K, (1, 1), use_bias=False,\n",
        "\t\t\tkernel_regularizer=l2(reg))(act3)\n",
        "\n",
        "\t\tif red:\n",
        "\t\t\tshortcut = Conv2D(K, (1, 1), strides=stride,\n",
        "\t\t\t\tuse_bias=False, kernel_regularizer=l2(reg))(act1)\n",
        "\n",
        "\t\t# adding together the shortcut and the final CONV\n",
        "\t\tx = add([conv3, shortcut])\n",
        "\n",
        "\t\t# return the addition as the output of the ResNet module\n",
        "\t\treturn x\n",
        "\n",
        "\t@staticmethod\n",
        "\tdef build(width, height, depth, classes, stages, filters,\n",
        "\t\treg=0.0001, bnEps=2e-5, bnMom=0.9):\n",
        "\t\t# initializing the input shape to be \"channels_last\" and the channels dimension itself\n",
        "\t\tinputShape = (height, width, depth)\n",
        "\t\tchanDim = -1\n",
        "\n",
        "\t\t# if we are using \"channels first\", we need to update the input shape and channels dimension\n",
        "\t\tif K.image_data_format() == \"channels_first\":\n",
        "\t\t\tinputShape = (depth, height, width)\n",
        "\t\t\tchanDim = 1\n",
        "\n",
        "\t\t# Creating input layer and applying BatchNormalization\n",
        "\t\tinputs = Input(shape=inputShape)\n",
        "\t\tx = BatchNormalization(axis=chanDim, epsilon=bnEps,\n",
        "\t\t\tmomentum=bnMom)(inputs)\n",
        "\n",
        "\t\t# applying CONV => BatchNorm => Activation => MaxPooling to reduce spatial size\n",
        "\t\tx = Conv2D(filters[0], (5, 5), use_bias=False,\n",
        "\t\t\tpadding=\"same\", kernel_regularizer=l2(reg))(x)\n",
        "\t\tx = BatchNormalization(axis=chanDim, epsilon=bnEps,\n",
        "\t\t\tmomentum=bnMom)(x)\n",
        "\t\tx = Activation(\"relu\")(x)\n",
        "\t\tx = ZeroPadding2D((1, 1))(x)\n",
        "\t\tx = MaxPooling2D((3, 3), strides=(2, 2))(x)\n",
        "\n",
        "\t\t# loop over the number of stages\n",
        "\t\tfor i in range(0, len(stages)):\n",
        "\t\t\t# initialize the stride, then apply a residual module\n",
        "\t\t\t# used to reduce the spatial size of the input volume\n",
        "\t\t\tstride = (1, 1) if i == 0 else (2, 2)\n",
        "\t\t\tx = ResNet.residual_module(x, filters[i + 1], stride,\n",
        "\t\t\t\tchanDim, red=True, bnEps=bnEps, bnMom=bnMom)\n",
        "\n",
        "\t\t\t# loop over the number of layers in the stage\n",
        "\t\t\tfor j in range(0, stages[i] - 1):\n",
        "\t\t\t\t# apply a ResNet module\n",
        "\t\t\t\tx = ResNet.residual_module(x, filters[i + 1],\n",
        "\t\t\t\t\t(1, 1), chanDim, bnEps=bnEps, bnMom=bnMom)\n",
        "\n",
        "\t\t# apply BatchNorm => Activation=> AveragePooling\n",
        "\t\tx = BatchNormalization(axis=chanDim, epsilon=bnEps,\n",
        "\t\t\tmomentum=bnMom)(x)\n",
        "\t\tx = Activation(\"relu\")(x)\n",
        "\t\tx = AveragePooling2D((8, 8))(x)\n",
        "\n",
        "\t\t# softmax classifier\n",
        "\t\tx = Flatten()(x)\n",
        "\t\tx = Dense(classes, kernel_regularizer=l2(reg))(x)\n",
        "\t\tx = Activation(\"softmax\")(x)\n",
        "\n",
        "\t\t# creating the model\n",
        "\t\tmodel = Model(inputs, x, name=\"resnet\")\n",
        "\n",
        "\t\n",
        "\t\treturn model"
      ],
      "execution_count": 0,
      "outputs": []
    },
    {
      "cell_type": "code",
      "metadata": {
        "id": "MQsAV2bAOleq",
        "colab_type": "code",
        "colab": {}
      },
      "source": [
        "import matplotlib\n",
        "matplotlib.use(\"Agg\")"
      ],
      "execution_count": 0,
      "outputs": []
    },
    {
      "cell_type": "code",
      "metadata": {
        "id": "teL0r6PHgOgk",
        "colab_type": "code",
        "colab": {}
      },
      "source": [
        "%matplotlib inline"
      ],
      "execution_count": 0,
      "outputs": []
    },
    {
      "cell_type": "code",
      "metadata": {
        "id": "Q9cIcJihO1AZ",
        "colab_type": "code",
        "colab": {}
      },
      "source": [
        "from keras.preprocessing.image import ImageDataGenerator\n",
        "from keras.callbacks import LearningRateScheduler\n",
        "from keras.optimizers import SGD\n",
        "from sklearn.metrics import classification_report\n",
        "import numpy as np"
      ],
      "execution_count": 0,
      "outputs": []
    },
    {
      "cell_type": "code",
      "metadata": {
        "id": "1coaz3KTPMsa",
        "colab_type": "code",
        "colab": {}
      },
      "source": [
        "NUM_EPOCHS = 50\n",
        "INIT_LR = 1e-1\n",
        "BS = 64"
      ],
      "execution_count": 0,
      "outputs": []
    },
    {
      "cell_type": "code",
      "metadata": {
        "id": "Oy5Y0b_lPN2H",
        "colab_type": "code",
        "colab": {}
      },
      "source": [
        "def poly_decay(epoch):\n",
        "\t\n",
        "\tmaxEpochs = NUM_EPOCHS\n",
        "\tbaseLR = INIT_LR\n",
        "\tpower = 1.0\n",
        "\n",
        "\t# computing the new learning rate based on polynomial decay\n",
        "\teta = baseLR * (1 - (epoch / float(maxEpochs))) ** power\n",
        "\n",
        "\t# return the new learning rate\n",
        "\treturn eta"
      ],
      "execution_count": 0,
      "outputs": []
    },
    {
      "cell_type": "code",
      "metadata": {
        "id": "Rm3C51TPPQXG",
        "colab_type": "code",
        "colab": {}
      },
      "source": [
        "totalTrain = len(list(paths.list_images(TRAIN_PATH)))\n",
        "totalVal = len(list(paths.list_images(VAL_PATH)))\n",
        "totalTest = len(list(paths.list_images(TEST_PATH)))"
      ],
      "execution_count": 0,
      "outputs": []
    },
    {
      "cell_type": "code",
      "metadata": {
        "id": "FQNQWcpTPhfo",
        "colab_type": "code",
        "outputId": "c4a8706e-8fa5-40d4-ea13-d5b080cc55c9",
        "colab": {
          "base_uri": "https://localhost:8080/",
          "height": 34
        }
      },
      "source": [
        "totalTrain , totalVal, totalTest"
      ],
      "execution_count": 0,
      "outputs": [
        {
          "output_type": "execute_result",
          "data": {
            "text/plain": [
              "(19842, 2204, 5512)"
            ]
          },
          "metadata": {
            "tags": []
          },
          "execution_count": 28
        }
      ]
    },
    {
      "cell_type": "code",
      "metadata": {
        "id": "7pTJSt7-PkCM",
        "colab_type": "code",
        "colab": {}
      },
      "source": [
        "#Training Image Generator\n",
        "trainAug = ImageDataGenerator(\n",
        "\trescale=1 / 255.0,\n",
        "\trotation_range=20,\n",
        "\tzoom_range=0.05,\n",
        "\twidth_shift_range=0.05,\n",
        "\theight_shift_range=0.05,\n",
        "\tshear_range=0.05,\n",
        "\thorizontal_flip=True,\n",
        "  vertical_flip =True,\n",
        "\tfill_mode=\"nearest\")"
      ],
      "execution_count": 0,
      "outputs": []
    },
    {
      "cell_type": "code",
      "metadata": {
        "id": "Sf2ebBCBP-ZC",
        "colab_type": "code",
        "colab": {}
      },
      "source": [
        "# Validation and Testing Image Generator\n",
        "valAug = ImageDataGenerator(rescale=1 / 255.0)\n",
        "testAug = ImageDataGenerator(rescale=1 / 255.0)"
      ],
      "execution_count": 0,
      "outputs": []
    },
    {
      "cell_type": "code",
      "metadata": {
        "id": "f-juifFxQCnm",
        "colab_type": "code",
        "outputId": "e50c3fba-4682-4847-e59f-24e3f33ad91e",
        "colab": {
          "base_uri": "https://localhost:8080/",
          "height": 34
        }
      },
      "source": [
        "trainGen = trainAug.flow_from_directory(\n",
        "\tTRAIN_PATH,\n",
        "\tclass_mode=\"categorical\",\n",
        "\ttarget_size=(64, 64),\n",
        "\tcolor_mode=\"rgb\",\n",
        "\tshuffle=True,\n",
        "\tbatch_size=BS)"
      ],
      "execution_count": 0,
      "outputs": [
        {
          "output_type": "stream",
          "text": [
            "Found 19842 images belonging to 2 classes.\n"
          ],
          "name": "stdout"
        }
      ]
    },
    {
      "cell_type": "code",
      "metadata": {
        "id": "co3CUJmDQP7e",
        "colab_type": "code",
        "outputId": "2161ee03-1b82-43ae-b793-45697dab1374",
        "colab": {
          "base_uri": "https://localhost:8080/",
          "height": 34
        }
      },
      "source": [
        "valGen = valAug.flow_from_directory(\n",
        "\tVAL_PATH,\n",
        "\tclass_mode=\"categorical\",\n",
        "\ttarget_size=(64, 64),\n",
        "\tcolor_mode=\"rgb\",\n",
        "\tshuffle=False,\n",
        "\tbatch_size=BS)\n"
      ],
      "execution_count": 0,
      "outputs": [
        {
          "output_type": "stream",
          "text": [
            "Found 2204 images belonging to 2 classes.\n"
          ],
          "name": "stdout"
        }
      ]
    },
    {
      "cell_type": "code",
      "metadata": {
        "id": "btog-E9wQ0ZM",
        "colab_type": "code",
        "outputId": "6bf11476-a4d6-4116-de11-5a5613583b3b",
        "colab": {
          "base_uri": "https://localhost:8080/",
          "height": 34
        }
      },
      "source": [
        "testGen = testAug.flow_from_directory(\n",
        "          TEST_PATH,\n",
        "          class_mode =\"categorical\",\n",
        "          target_size=(64,64),\n",
        "          color_mode =\"rgb\",\n",
        "           shuffle =False,\n",
        "           batch_size =BS)"
      ],
      "execution_count": 0,
      "outputs": [
        {
          "output_type": "stream",
          "text": [
            "Found 5512 images belonging to 2 classes.\n"
          ],
          "name": "stdout"
        }
      ]
    },
    {
      "cell_type": "code",
      "metadata": {
        "id": "mtQX1qvhRLg_",
        "colab_type": "code",
        "outputId": "a40ccadc-5021-4ae6-80b6-13b7636a0401",
        "colab": {
          "base_uri": "https://localhost:8080/",
          "height": 88
        }
      },
      "source": [
        "model = ResNet.build(64, 64, 3, 2, (3, 4, 6),\n",
        "\t(64, 128, 256, 512), reg=0.0005)\n",
        "opt = SGD(lr=INIT_LR, momentum=0.9)\n",
        "model.compile(loss=\"binary_crossentropy\", optimizer=opt,\n",
        "\tmetrics=[\"accuracy\"])"
      ],
      "execution_count": 0,
      "outputs": [
        {
          "output_type": "stream",
          "text": [
            "WARNING:tensorflow:From /usr/local/lib/python3.6/dist-packages/tensorflow/python/framework/op_def_library.py:263: colocate_with (from tensorflow.python.framework.ops) is deprecated and will be removed in a future version.\n",
            "Instructions for updating:\n",
            "Colocations handled automatically by placer.\n"
          ],
          "name": "stdout"
        }
      ]
    },
    {
      "cell_type": "code",
      "metadata": {
        "id": "b17cSwLMSW7d",
        "colab_type": "code",
        "colab": {}
      },
      "source": [
        "callbacks = [LearningRateScheduler(poly_decay)]"
      ],
      "execution_count": 0,
      "outputs": []
    },
    {
      "cell_type": "code",
      "metadata": {
        "id": "VTUlMxMPSiV4",
        "colab_type": "code",
        "outputId": "80c74eef-d4b2-4ab2-a649-1eb143db5d8c",
        "colab": {
          "base_uri": "https://localhost:8080/",
          "height": 1788
        }
      },
      "source": [
        "H = model.fit_generator(\n",
        "\ttrainGen,\n",
        "\tsteps_per_epoch=totalTrain // BS,\n",
        "\tvalidation_data=valGen,\n",
        "\tvalidation_steps=totalVal // BS,\n",
        "\tepochs=NUM_EPOCHS,\n",
        "\tcallbacks=callbacks)"
      ],
      "execution_count": 0,
      "outputs": [
        {
          "output_type": "stream",
          "text": [
            "WARNING:tensorflow:From /usr/local/lib/python3.6/dist-packages/tensorflow/python/ops/math_ops.py:3066: to_int32 (from tensorflow.python.ops.math_ops) is deprecated and will be removed in a future version.\n",
            "Instructions for updating:\n",
            "Use tf.cast instead.\n",
            "Epoch 1/50\n",
            "310/310 [==============================] - 60s 192ms/step - loss: 0.8842 - acc: 0.8600 - val_loss: 0.6834 - val_acc: 0.9439\n",
            "Epoch 2/50\n",
            "310/310 [==============================] - 48s 156ms/step - loss: 0.6312 - acc: 0.9535 - val_loss: 0.6107 - val_acc: 0.9486\n",
            "Epoch 3/50\n",
            "310/310 [==============================] - 48s 156ms/step - loss: 0.9986 - acc: 0.8897 - val_loss: 0.8040 - val_acc: 0.9383\n",
            "Epoch 4/50\n",
            "310/310 [==============================] - 48s 156ms/step - loss: 0.7056 - acc: 0.9535 - val_loss: 0.6728 - val_acc: 0.9425\n",
            "Epoch 5/50\n",
            "310/310 [==============================] - 48s 154ms/step - loss: 4.2260 - acc: 0.9322 - val_loss: 3.4392 - val_acc: 0.9514\n",
            "Epoch 6/50\n",
            "310/310 [==============================] - 48s 154ms/step - loss: 2.7543 - acc: 0.9526 - val_loss: 2.1933 - val_acc: 0.9444\n",
            "Epoch 7/50\n",
            "310/310 [==============================] - 48s 154ms/step - loss: 1.7725 - acc: 0.9587 - val_loss: 1.5014 - val_acc: 0.9435\n",
            "Epoch 8/50\n",
            "310/310 [==============================] - 48s 155ms/step - loss: 1.2155 - acc: 0.9582 - val_loss: 1.0338 - val_acc: 0.9528\n",
            "Epoch 9/50\n",
            "310/310 [==============================] - 48s 154ms/step - loss: 0.9095 - acc: 0.9534 - val_loss: 0.7867 - val_acc: 0.9519\n",
            "Epoch 10/50\n",
            "310/310 [==============================] - 48s 154ms/step - loss: 0.7593 - acc: 0.9456 - val_loss: 0.6616 - val_acc: 0.9491\n",
            "Epoch 11/50\n",
            "310/310 [==============================] - 48s 154ms/step - loss: 0.6156 - acc: 0.9490 - val_loss: 0.5473 - val_acc: 0.9514\n",
            "Epoch 12/50\n",
            "310/310 [==============================] - 48s 154ms/step - loss: 0.4897 - acc: 0.9604 - val_loss: 0.4539 - val_acc: 0.9584\n",
            "Epoch 13/50\n",
            "310/310 [==============================] - 48s 154ms/step - loss: 0.4281 - acc: 0.9613 - val_loss: 0.4152 - val_acc: 0.9523\n",
            "Epoch 14/50\n",
            "310/310 [==============================] - 48s 153ms/step - loss: 0.3796 - acc: 0.9619 - val_loss: 0.4097 - val_acc: 0.9477\n",
            "Epoch 15/50\n",
            "310/310 [==============================] - 48s 154ms/step - loss: 0.4095 - acc: 0.9485 - val_loss: 0.3695 - val_acc: 0.9514\n",
            "Epoch 16/50\n",
            "310/310 [==============================] - 48s 154ms/step - loss: 0.3533 - acc: 0.9571 - val_loss: 0.3443 - val_acc: 0.9570\n",
            "Epoch 17/50\n",
            "310/310 [==============================] - 48s 154ms/step - loss: 0.3226 - acc: 0.9610 - val_loss: 0.3189 - val_acc: 0.9556\n",
            "Epoch 18/50\n",
            "310/310 [==============================] - 48s 154ms/step - loss: 0.3370 - acc: 0.9520 - val_loss: 0.3175 - val_acc: 0.9514\n",
            "Epoch 19/50\n",
            "310/310 [==============================] - 47s 153ms/step - loss: 0.3041 - acc: 0.9569 - val_loss: 0.3021 - val_acc: 0.9519\n",
            "Epoch 20/50\n",
            "310/310 [==============================] - 48s 153ms/step - loss: 0.2718 - acc: 0.9622 - val_loss: 0.2708 - val_acc: 0.9607\n",
            "Epoch 21/50\n",
            "310/310 [==============================] - 48s 154ms/step - loss: 0.2554 - acc: 0.9644 - val_loss: 0.2679 - val_acc: 0.9589\n",
            "Epoch 22/50\n",
            "310/310 [==============================] - 47s 153ms/step - loss: 0.2794 - acc: 0.9555 - val_loss: 0.2558 - val_acc: 0.9556\n",
            "Epoch 23/50\n",
            "310/310 [==============================] - 48s 155ms/step - loss: 0.2386 - acc: 0.9620 - val_loss: 0.2420 - val_acc: 0.9607\n",
            "Epoch 24/50\n",
            "310/310 [==============================] - 47s 153ms/step - loss: 0.2285 - acc: 0.9645 - val_loss: 0.2414 - val_acc: 0.9593\n",
            "Epoch 25/50\n",
            "310/310 [==============================] - 47s 153ms/step - loss: 0.2206 - acc: 0.9634 - val_loss: 0.2313 - val_acc: 0.9603\n",
            "Epoch 26/50\n",
            "310/310 [==============================] - 48s 154ms/step - loss: 0.2131 - acc: 0.9643 - val_loss: 0.2290 - val_acc: 0.9565\n",
            "Epoch 27/50\n",
            "310/310 [==============================] - 47s 153ms/step - loss: 0.2076 - acc: 0.9646 - val_loss: 0.2061 - val_acc: 0.9654\n",
            "Epoch 28/50\n",
            "310/310 [==============================] - 48s 155ms/step - loss: 0.2713 - acc: 0.9494 - val_loss: 0.2420 - val_acc: 0.9551\n",
            "Epoch 29/50\n",
            "310/310 [==============================] - 49s 157ms/step - loss: 0.2218 - acc: 0.9609 - val_loss: 0.2194 - val_acc: 0.9593\n",
            "Epoch 30/50\n",
            "310/310 [==============================] - 48s 156ms/step - loss: 0.2091 - acc: 0.9635 - val_loss: 0.2228 - val_acc: 0.9579\n",
            "Epoch 31/50\n",
            "310/310 [==============================] - 48s 154ms/step - loss: 0.2745 - acc: 0.9451 - val_loss: 0.2406 - val_acc: 0.9519\n",
            "Epoch 32/50\n",
            "310/310 [==============================] - 47s 153ms/step - loss: 0.2261 - acc: 0.9601 - val_loss: 0.2219 - val_acc: 0.9570\n",
            "Epoch 33/50\n",
            "310/310 [==============================] - 48s 153ms/step - loss: 0.2095 - acc: 0.9632 - val_loss: 0.2080 - val_acc: 0.9593\n",
            "Epoch 34/50\n",
            "310/310 [==============================] - 47s 153ms/step - loss: 0.2301 - acc: 0.9554 - val_loss: 0.2115 - val_acc: 0.9603\n",
            "Epoch 35/50\n",
            "310/310 [==============================] - 48s 154ms/step - loss: 0.1993 - acc: 0.9641 - val_loss: 0.2010 - val_acc: 0.9626\n",
            "Epoch 36/50\n",
            "310/310 [==============================] - 48s 154ms/step - loss: 0.1937 - acc: 0.9634 - val_loss: 0.1965 - val_acc: 0.9619\n",
            "Epoch 37/50\n",
            "310/310 [==============================] - 47s 153ms/step - loss: 0.2101 - acc: 0.9598 - val_loss: 0.1930 - val_acc: 0.9593\n",
            "Epoch 38/50\n",
            "310/310 [==============================] - 47s 153ms/step - loss: 0.1842 - acc: 0.9643 - val_loss: 0.1903 - val_acc: 0.9598\n",
            "Epoch 39/50\n",
            "310/310 [==============================] - 47s 152ms/step - loss: 0.1790 - acc: 0.9640 - val_loss: 0.1816 - val_acc: 0.9617\n",
            "Epoch 40/50\n",
            "310/310 [==============================] - 48s 154ms/step - loss: 0.2244 - acc: 0.9595 - val_loss: 0.2169 - val_acc: 0.9593\n",
            "Epoch 41/50\n",
            "310/310 [==============================] - 48s 153ms/step - loss: 0.2029 - acc: 0.9635 - val_loss: 0.2082 - val_acc: 0.9603\n",
            "Epoch 42/50\n",
            "310/310 [==============================] - 48s 154ms/step - loss: 0.1911 - acc: 0.9659 - val_loss: 0.1973 - val_acc: 0.9645\n",
            "Epoch 43/50\n",
            "310/310 [==============================] - 49s 157ms/step - loss: 0.1867 - acc: 0.9661 - val_loss: 0.1945 - val_acc: 0.9621\n",
            "Epoch 44/50\n",
            "310/310 [==============================] - 48s 154ms/step - loss: 0.1822 - acc: 0.9664 - val_loss: 0.1921 - val_acc: 0.9612\n",
            "Epoch 45/50\n",
            "310/310 [==============================] - 48s 154ms/step - loss: 0.1826 - acc: 0.9663 - val_loss: 0.1896 - val_acc: 0.9617\n",
            "Epoch 46/50\n",
            "310/310 [==============================] - 47s 153ms/step - loss: 0.1759 - acc: 0.9673 - val_loss: 0.1804 - val_acc: 0.9645\n",
            "Epoch 47/50\n",
            "310/310 [==============================] - 48s 155ms/step - loss: 0.1888 - acc: 0.9662 - val_loss: 0.1774 - val_acc: 0.9664\n",
            "Epoch 48/50\n",
            "310/310 [==============================] - 48s 155ms/step - loss: 0.1758 - acc: 0.9675 - val_loss: 0.1813 - val_acc: 0.9659\n",
            "Epoch 49/50\n",
            "310/310 [==============================] - 48s 154ms/step - loss: 0.1675 - acc: 0.9682 - val_loss: 0.1770 - val_acc: 0.9626\n",
            "Epoch 50/50\n",
            "310/310 [==============================] - 48s 154ms/step - loss: 0.1673 - acc: 0.9674 - val_loss: 0.1726 - val_acc: 0.9664\n"
          ],
          "name": "stdout"
        }
      ]
    },
    {
      "cell_type": "code",
      "metadata": {
        "id": "jKPrto7DcH8J",
        "colab_type": "code",
        "colab": {}
      },
      "source": [
        "testGen.reset()\n",
        "predId = model.predict_generator(testGen,\n",
        "\tsteps=(totalTest // BS) + 1)\n",
        " \n",
        "predId = np.argmax(predId, axis=1)"
      ],
      "execution_count": 0,
      "outputs": []
    },
    {
      "cell_type": "code",
      "metadata": {
        "id": "fc3NhjLjcizb",
        "colab_type": "code",
        "outputId": "423bc8ab-ad4b-4032-82be-cf9a034f6d7d",
        "colab": {
          "base_uri": "https://localhost:8080/",
          "height": 170
        }
      },
      "source": [
        "print(classification_report(testGen.classes, predId,\n",
        "\ttarget_names=testGen.class_indices.keys()))"
      ],
      "execution_count": 0,
      "outputs": [
        {
          "output_type": "stream",
          "text": [
            "              precision    recall  f1-score   support\n",
            "\n",
            " Parasitized       0.98      0.95      0.96      2726\n",
            "  Uninfected       0.96      0.98      0.97      2786\n",
            "\n",
            "    accuracy                           0.97      5512\n",
            "   macro avg       0.97      0.97      0.97      5512\n",
            "weighted avg       0.97      0.97      0.97      5512\n",
            "\n"
          ],
          "name": "stdout"
        }
      ]
    },
    {
      "cell_type": "code",
      "metadata": {
        "id": "0OfL5RX5eUln",
        "colab_type": "code",
        "colab": {}
      },
      "source": [
        "import matplotlib.pyplot as plt"
      ],
      "execution_count": 0,
      "outputs": []
    },
    {
      "cell_type": "code",
      "metadata": {
        "id": "lcr3M0LGfvxh",
        "colab_type": "code",
        "colab": {}
      },
      "source": [
        "from IPython.core.interactiveshell import InteractiveShell\n",
        "InteractiveShell.ast_node_interactivity = \"all\""
      ],
      "execution_count": 0,
      "outputs": []
    },
    {
      "cell_type": "code",
      "metadata": {
        "id": "KUY2KlAldDiv",
        "colab_type": "code",
        "outputId": "d3c9acce-4a65-4fb8-c852-ec8af5d81caa",
        "colab": {
          "base_uri": "https://localhost:8080/",
          "height": 299
        }
      },
      "source": [
        "plt.style.use(\"ggplot\")\n",
        "plt.plot(np.arange(0, NUM_EPOCHS), H.history[\"loss\"], label=\"train_loss\")\n",
        "plt.plot(np.arange(0, NUM_EPOCHS), H.history[\"val_loss\"], label=\"val_loss\")\n",
        "plt.title(\"Loss\")\n",
        "plt.xlabel(\"Epochs\")\n",
        "plt.ylabel(\"Loss\")\n",
        "plt.legend(loc=\"best\")\n",
        "plt.show();"
      ],
      "execution_count": 0,
      "outputs": [
        {
          "output_type": "display_data",
          "data": {
            "image/png": "[encoded data removed]",
            "text/plain": [
              "<Figure size 432x288 with 1 Axes>"
            ]
          },
          "metadata": {
            "tags": []
          }
        }
      ]
    },
    {
      "cell_type": "code",
      "metadata": {
        "id": "0RKx1iHidUuW",
        "colab_type": "code",
        "outputId": "b3bb231d-6b0d-42ed-f046-de887f1ba23d",
        "colab": {
          "base_uri": "https://localhost:8080/",
          "height": 336
        }
      },
      "source": [
        "plt.style.use(\"ggplot\")\n",
        "plt.plot(np.arange(0, NUM_EPOCHS), H.history[\"acc\"], label=\"train_acc\")\n",
        "plt.plot(np.arange(0, NUM_EPOCHS), H.history[\"val_acc\"], label=\"val_acc\")\n",
        "plt.title(\"Accuracy\")\n",
        "plt.xlabel(\"Epochs\")\n",
        "plt.ylabel(\"Accuracy\")\n",
        "plt.legend(loc=\"lower right\")\n",
        "plt.show()"
      ],
      "execution_count": 0,
      "outputs": [
        {
          "output_type": "execute_result",
          "data": {
            "text/plain": [
              "[<matplotlib.lines.Line2D at 0x7fb63caa8860>]"
            ]
          },
          "metadata": {
            "tags": []
          },
          "execution_count": 78
        },
        {
          "output_type": "execute_result",
          "data": {
            "text/plain": [
              "[<matplotlib.lines.Line2D at 0x7fb63cb7a828>]"
            ]
          },
          "metadata": {
            "tags": []
          },
          "execution_count": 78
        },
        {
          "output_type": "execute_result",
          "data": {
            "text/plain": [
              "Text(0.5, 1.0, 'Accuracy')"
            ]
          },
          "metadata": {
            "tags": []
          },
          "execution_count": 78
        },
        {
          "output_type": "execute_result",
          "data": {
            "text/plain": [
              "Text(0.5, 0, 'Epochs')"
            ]
          },
          "metadata": {
            "tags": []
          },
          "execution_count": 78
        },
        {
          "output_type": "execute_result",
          "data": {
            "text/plain": [
              "Text(0, 0.5, 'Accuracy')"
            ]
          },
          "metadata": {
            "tags": []
          },
          "execution_count": 78
        },
        {
          "output_type": "execute_result",
          "data": {
            "text/plain": [
              "<matplotlib.legend.Legend at 0x7fb63ca9a438>"
            ]
          },
          "metadata": {
            "tags": []
          },
          "execution_count": 78
        },
        {
          "output_type": "display_data",
          "data": {
            "image/png": "[encoded data removed]",
            "text/plain": [
              "<Figure size 432x288 with 1 Axes>"
            ]
          },
          "metadata": {
            "tags": []
          }
        }
      ]
    },
    {
      "cell_type": "code",
      "metadata": {
        "id": "fgGWh1_zeI_5",
        "colab_type": "code",
        "outputId": "618a26fd-8724-466e-a98e-b53015e95766",
        "colab": {
          "base_uri": "https://localhost:8080/",
          "height": 34
        }
      },
      "source": [
        "H.history[\"acc\"][-1], H.history[\"val_acc\"][-1]"
      ],
      "execution_count": 0,
      "outputs": [
        {
          "output_type": "execute_result",
          "data": {
            "text/plain": [
              "(0.9688542825361512, 0.9663551398526843)"
            ]
          },
          "metadata": {
            "tags": []
          },
          "execution_count": 81
        }
      ]
    },
    {
      "cell_type": "code",
      "metadata": {
        "id": "GDSHxqbujuuO",
        "colab_type": "code",
        "outputId": "7e320da8-74ce-41ca-eea3-851858ae55a3",
        "colab": {
          "base_uri": "https://localhost:8080/",
          "height": 34
        }
      },
      "source": [
        "np.sum(list(testGen.classes) == predIdxs) / len(list(testGen.classes))"
      ],
      "execution_count": 0,
      "outputs": [
        {
          "output_type": "execute_result",
          "data": {
            "text/plain": [
              "0.965166908563135"
            ]
          },
          "metadata": {
            "tags": []
          },
          "execution_count": 89
        }
      ]
    },
    {
      "cell_type": "markdown",
      "metadata": {
        "id": "-ehEnolGkXKq",
        "colab_type": "text"
      },
      "source": [
        "#### Training Accuracy :\n",
        "             0.968854\n",
        "             \n",
        "#### Validation Accuracy:\n",
        "             0.966355\n",
        "             \n",
        "#### Testing Accuracy:\n",
        "             0.965167"
      ]
    }
  ]
}