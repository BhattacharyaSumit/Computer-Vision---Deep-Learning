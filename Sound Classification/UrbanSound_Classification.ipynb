{
  "nbformat": 4,
  "nbformat_minor": 0,
  "metadata": {
    "colab": {
      "name": "UrbanSound Classification.ipynb",
      "version": "0.3.2",
      "provenance": [],
      "collapsed_sections": []
    },
    "kernelspec": {
      "name": "python3",
      "display_name": "Python 3"
    },
    "accelerator": "GPU"
  },
  "cells": [
    {
      "cell_type": "code",
      "metadata": {
        "id": "zN_14-O5nsqh",
        "colab_type": "code",
        "outputId": "7c771df2-931b-4023-c1eb-f0a10a8919d0",
        "colab": {
          "base_uri": "https://localhost:8080/",
          "height": 122
        }
      },
      "source": [
        "from google.colab import drive\n",
        "drive.mount('/content/gdrive', force_remount=True)\n"
      ],
      "execution_count": 0,
      "outputs": [
        {
          "output_type": "stream",
          "text": [
            "Go to this URL in a browser: https://accounts.google.com/o/oauth2/auth?client_id=947318989803-6bn6qk8qdgf4n4g3pfee6491hc0brc4i.apps.googleusercontent.com&redirect_uri=urn%3Aietf%3Awg%3Aoauth%3A2.0%3Aoob&scope=email%20https%3A%2F%2Fwww.googleapis.com%2Fauth%2Fdocs.test%20https%3A%2F%2Fwww.googleapis.com%2Fauth%2Fdrive%20https%3A%2F%2Fwww.googleapis.com%2Fauth%2Fdrive.photos.readonly%20https%3A%2F%2Fwww.googleapis.com%2Fauth%2Fpeopleapi.readonly&response_type=code\n",
            "\n",
            "Enter your authorization code:\n",
            "··········\n",
            "Mounted at /content/gdrive\n"
          ],
          "name": "stdout"
        }
      ]
    },
    {
      "cell_type": "code",
      "metadata": {
        "id": "M3sVi5T9phqM",
        "colab_type": "code",
        "colab": {}
      },
      "source": [
        "!unzip \"/content/gdrive/My Drive/test.zip\""
      ],
      "execution_count": 0,
      "outputs": []
    },
    {
      "cell_type": "code",
      "metadata": {
        "id": "-FSJIoMDp5M6",
        "colab_type": "code",
        "colab": {}
      },
      "source": [
        "!unzip \"/content/gdrive/My Drive/train.zip\""
      ],
      "execution_count": 0,
      "outputs": []
    },
    {
      "cell_type": "code",
      "metadata": {
        "id": "Jd_gPx60qeWq",
        "colab_type": "code",
        "colab": {}
      },
      "source": [
        "import IPython.display as ipd\n"
      ],
      "execution_count": 0,
      "outputs": []
    },
    {
      "cell_type": "code",
      "metadata": {
        "id": "op9KXqLSspAW",
        "colab_type": "code",
        "colab": {}
      },
      "source": [
        "import numpy as np\n",
        "import matplotlib.pyplot as plt"
      ],
      "execution_count": 0,
      "outputs": []
    },
    {
      "cell_type": "code",
      "metadata": {
        "id": "bS34xCJbrGZs",
        "colab_type": "code",
        "colab": {}
      },
      "source": [
        "import pandas as pd\n",
        "train = pd.read_csv(\"train.csv\")\n",
        "test = pd.read_csv(\"test.csv\")"
      ],
      "execution_count": 0,
      "outputs": []
    },
    {
      "cell_type": "code",
      "metadata": {
        "id": "z8tFPAbWHbYZ",
        "colab_type": "code",
        "outputId": "d84f65a4-7e8d-4dfb-d223-e6af75872d42",
        "colab": {
          "base_uri": "https://localhost:8080/",
          "height": 204
        }
      },
      "source": [
        "train.head()"
      ],
      "execution_count": 0,
      "outputs": [
        {
          "output_type": "execute_result",
          "data": {
            "text/html": [
              "<div>\n",
              "<style scoped>\n",
              "    .dataframe tbody tr th:only-of-type {\n",
              "        vertical-align: middle;\n",
              "    }\n",
              "\n",
              "    .dataframe tbody tr th {\n",
              "        vertical-align: top;\n",
              "    }\n",
              "\n",
              "    .dataframe thead th {\n",
              "        text-align: right;\n",
              "    }\n",
              "</style>\n",
              "<table border=\"1\" class=\"dataframe\">\n",
              "  <thead>\n",
              "    <tr style=\"text-align: right;\">\n",
              "      <th></th>\n",
              "      <th>ID</th>\n",
              "      <th>Class</th>\n",
              "    </tr>\n",
              "  </thead>\n",
              "  <tbody>\n",
              "    <tr>\n",
              "      <th>0</th>\n",
              "      <td>0</td>\n",
              "      <td>siren</td>\n",
              "    </tr>\n",
              "    <tr>\n",
              "      <th>1</th>\n",
              "      <td>1</td>\n",
              "      <td>street_music</td>\n",
              "    </tr>\n",
              "    <tr>\n",
              "      <th>2</th>\n",
              "      <td>2</td>\n",
              "      <td>drilling</td>\n",
              "    </tr>\n",
              "    <tr>\n",
              "      <th>3</th>\n",
              "      <td>3</td>\n",
              "      <td>siren</td>\n",
              "    </tr>\n",
              "    <tr>\n",
              "      <th>4</th>\n",
              "      <td>4</td>\n",
              "      <td>dog_bark</td>\n",
              "    </tr>\n",
              "  </tbody>\n",
              "</table>\n",
              "</div>"
            ],
            "text/plain": [
              "   ID         Class\n",
              "0   0         siren\n",
              "1   1  street_music\n",
              "2   2      drilling\n",
              "3   3         siren\n",
              "4   4      dog_bark"
            ]
          },
          "metadata": {
            "tags": []
          },
          "execution_count": 5
        }
      ]
    },
    {
      "cell_type": "code",
      "metadata": {
        "id": "Ca-PdQ3FH15J",
        "colab_type": "code",
        "colab": {}
      },
      "source": [
        "from sklearn.preprocessing import LabelEncoder\n",
        "le = LabelEncoder()\n",
        "train[\"Class\"] = le.fit_transform(train[\"Class\"])"
      ],
      "execution_count": 0,
      "outputs": []
    },
    {
      "cell_type": "code",
      "metadata": {
        "id": "xYZsuBJ3Ij4h",
        "colab_type": "code",
        "outputId": "5765fe8b-16de-40fd-f755-c67daf39c807",
        "colab": {
          "base_uri": "https://localhost:8080/",
          "height": 204
        }
      },
      "source": [
        "train.head()"
      ],
      "execution_count": 0,
      "outputs": [
        {
          "output_type": "execute_result",
          "data": {
            "text/html": [
              "<div>\n",
              "<style scoped>\n",
              "    .dataframe tbody tr th:only-of-type {\n",
              "        vertical-align: middle;\n",
              "    }\n",
              "\n",
              "    .dataframe tbody tr th {\n",
              "        vertical-align: top;\n",
              "    }\n",
              "\n",
              "    .dataframe thead th {\n",
              "        text-align: right;\n",
              "    }\n",
              "</style>\n",
              "<table border=\"1\" class=\"dataframe\">\n",
              "  <thead>\n",
              "    <tr style=\"text-align: right;\">\n",
              "      <th></th>\n",
              "      <th>ID</th>\n",
              "      <th>Class</th>\n",
              "    </tr>\n",
              "  </thead>\n",
              "  <tbody>\n",
              "    <tr>\n",
              "      <th>0</th>\n",
              "      <td>0</td>\n",
              "      <td>8</td>\n",
              "    </tr>\n",
              "    <tr>\n",
              "      <th>1</th>\n",
              "      <td>1</td>\n",
              "      <td>9</td>\n",
              "    </tr>\n",
              "    <tr>\n",
              "      <th>2</th>\n",
              "      <td>2</td>\n",
              "      <td>4</td>\n",
              "    </tr>\n",
              "    <tr>\n",
              "      <th>3</th>\n",
              "      <td>3</td>\n",
              "      <td>8</td>\n",
              "    </tr>\n",
              "    <tr>\n",
              "      <th>4</th>\n",
              "      <td>4</td>\n",
              "      <td>3</td>\n",
              "    </tr>\n",
              "  </tbody>\n",
              "</table>\n",
              "</div>"
            ],
            "text/plain": [
              "   ID  Class\n",
              "0   0      8\n",
              "1   1      9\n",
              "2   2      4\n",
              "3   3      8\n",
              "4   4      3"
            ]
          },
          "metadata": {
            "tags": []
          },
          "execution_count": 92
        }
      ]
    },
    {
      "cell_type": "code",
      "metadata": {
        "id": "ZzXJ_j2XrjqV",
        "colab_type": "code",
        "colab": {}
      },
      "source": [
        "import os\n",
        "import librosa"
      ],
      "execution_count": 0,
      "outputs": []
    },
    {
      "cell_type": "code",
      "metadata": {
        "id": "r0_r6WgIr4HH",
        "colab_type": "code",
        "colab": {}
      },
      "source": [
        "data, sampling_rate = librosa.load('/content/Train/2022.wav')"
      ],
      "execution_count": 0,
      "outputs": []
    },
    {
      "cell_type": "code",
      "metadata": {
        "id": "ItIK5-vQsB2L",
        "colab_type": "code",
        "outputId": "88177b49-44bd-493f-8971-761d5b3c37b2",
        "colab": {
          "base_uri": "https://localhost:8080/",
          "height": 300
        }
      },
      "source": [
        "import librosa.display\n",
        "librosa.display.waveplot(data, sr=sampling_rate)"
      ],
      "execution_count": 0,
      "outputs": [
        {
          "output_type": "execute_result",
          "data": {
            "text/plain": [
              "<matplotlib.collections.PolyCollection at 0x7f7f0aa6e9b0>"
            ]
          },
          "metadata": {
            "tags": []
          },
          "execution_count": 11
        },
        {
          "output_type": "display_data",
          "data": {
            "image/png": "[encoded data removed]",
            "text/plain": [
              "<Figure size 432x288 with 1 Axes>"
            ]
          },
          "metadata": {
            "tags": []
          }
        }
      ]
    },
    {
      "cell_type": "code",
      "metadata": {
        "id": "zltkgX1bszec",
        "colab_type": "code",
        "outputId": "368e8faf-4365-447a-aa2b-dc8fda7ff45e",
        "colab": {
          "base_uri": "https://localhost:8080/",
          "height": 317
        }
      },
      "source": [
        "i = random.choice(train.index)\n",
        "\n",
        "audio_name = train.ID[i]\n",
        "path = os.path.join('content', 'Train', str(audio_name) + '.wav')\n",
        "\n",
        "print('Class: ', train.Class[i])\n",
        "x, sr = librosa.load('/content/Train/' + str(train.ID[i]) + '.wav')\n",
        "\n",
        "plt.figure(figsize=(12, 4))\n",
        "librosa.display.waveplot(x, sr=sr)"
      ],
      "execution_count": 0,
      "outputs": [
        {
          "output_type": "stream",
          "text": [
            "Class:  3\n"
          ],
          "name": "stdout"
        },
        {
          "output_type": "execute_result",
          "data": {
            "text/plain": [
              "<matplotlib.collections.PolyCollection at 0x7f7f0a9d6a90>"
            ]
          },
          "metadata": {
            "tags": []
          },
          "execution_count": 12
        },
        {
          "output_type": "display_data",
          "data": {
            "image/png": "[encoded data removed]",
            "text/plain": [
              "<Figure size 864x288 with 1 Axes>"
            ]
          },
          "metadata": {
            "tags": []
          }
        }
      ]
    },
    {
      "cell_type": "code",
      "metadata": {
        "id": "vQ5nkp5otwOd",
        "colab_type": "code",
        "outputId": "8b03ee9f-81c8-4c15-ed2b-1eec81973dae",
        "colab": {
          "base_uri": "https://localhost:8080/",
          "height": 204
        }
      },
      "source": [
        "train.Class.value_counts(normalize=True)"
      ],
      "execution_count": 0,
      "outputs": [
        {
          "output_type": "execute_result",
          "data": {
            "text/plain": [
              "7    0.122907\n",
              "5    0.114811\n",
              "8    0.111684\n",
              "3    0.110396\n",
              "2    0.110396\n",
              "9    0.110396\n",
              "4    0.110396\n",
              "0    0.110396\n",
              "1    0.056302\n",
              "6    0.042318\n",
              "Name: Class, dtype: float64"
            ]
          },
          "metadata": {
            "tags": []
          },
          "execution_count": 94
        }
      ]
    },
    {
      "cell_type": "markdown",
      "metadata": {
        "id": "fl9SNHMFXVbZ",
        "colab_type": "text"
      },
      "source": [
        "There does not seem to be a significantly huge  class imbalance."
      ]
    },
    {
      "cell_type": "markdown",
      "metadata": {
        "id": "LNMaCKNpXumL",
        "colab_type": "text"
      },
      "source": [
        "Now , I will try and extract the Mel-Frequency Ceptral Coefficients. These are one of the best forms of image representations of audio"
      ]
    },
    {
      "cell_type": "code",
      "metadata": {
        "id": "kEnfBeekxQQ5",
        "colab_type": "code",
        "colab": {}
      },
      "source": [
        "max_pad = 174\n",
        "def extract_features(file_name):\n",
        "   \n",
        "    try:\n",
        "        audio, sample_rate = librosa.load(file_name, res_type='kaiser_fast') \n",
        "        mfccs = librosa.feature.mfcc(y=audio, sr=sample_rate, n_mfcc=40)\n",
        "        pad_width = max_pad - mfccs.shape[1]\n",
        "        mfccs = np.pad(mfccs, pad_width=((0, 0), (0, pad_width)), mode='constant')\n",
        "        \n",
        "    except Exception as e:\n",
        "        print(\"Error encountered while parsing file: \", file)\n",
        "        return None \n",
        "    \n",
        "    return mfccs"
      ],
      "execution_count": 0,
      "outputs": []
    },
    {
      "cell_type": "code",
      "metadata": {
        "id": "KkCiiu89Z9L8",
        "colab_type": "code",
        "outputId": "183b6fff-25b6-4ea1-f117-84e93900f5f5",
        "colab": {
          "base_uri": "https://localhost:8080/",
          "height": 34
        }
      },
      "source": [
        "#data = '/content/Train'\n",
        "\n",
        "\n",
        "features = []\n",
        "\n",
        "# Iterate through each sound file and extract the features \n",
        "for index, row in train.iterrows():\n",
        "    \n",
        "    file_name = os.path.join(os.path.abspath(\"/content/Train\"), str(row[\"ID\"]) + \".wav\")\n",
        "    \n",
        "    class_label = row[\"Class\"]\n",
        "    data = extract_features(file_name)\n",
        "    \n",
        "    features.append([data, class_label])\n",
        "\n",
        "# Convert into a Panda dataframe \n",
        "featuresdf = pd.DataFrame(features, columns=['feature','class_label'])\n",
        "\n",
        "print('Finished feature extraction from ', len(featuresdf), ' files')"
      ],
      "execution_count": 0,
      "outputs": [
        {
          "output_type": "stream",
          "text": [
            "Finished feature extraction from  5435  files\n"
          ],
          "name": "stdout"
        }
      ]
    },
    {
      "cell_type": "code",
      "metadata": {
        "id": "38lxB50IbbJY",
        "colab_type": "code",
        "outputId": "e1a8209b-587a-4513-deba-c5385653cc57",
        "colab": {
          "base_uri": "https://localhost:8080/",
          "height": 34
        }
      },
      "source": [
        "features_test = []\n",
        "\n",
        "# Iterate through each sound file and extract the features \n",
        "for index, row in test.iterrows():\n",
        "    \n",
        "    file_name = os.path.join(os.path.abspath(\"/content/Test\"), str(row[\"ID\"]) + \".wav\")\n",
        "    \n",
        "    data = extract_features(file_name)\n",
        "    \n",
        "    features_test.append([data])\n",
        "\n",
        "# Convert into a Panda dataframe \n",
        "featuresdf_test = pd.DataFrame(features_test, columns=['feature'])\n",
        "\n",
        "print('Finished feature extraction from ', len(featuresdf_test), ' files')"
      ],
      "execution_count": 0,
      "outputs": [
        {
          "output_type": "stream",
          "text": [
            "Finished feature extraction from  3297  files\n"
          ],
          "name": "stdout"
        }
      ]
    },
    {
      "cell_type": "code",
      "metadata": {
        "id": "DphimV_2buIr",
        "colab_type": "code",
        "outputId": "fb7ca25f-8c3d-47a9-80c5-baa9b10a8198",
        "colab": {
          "base_uri": "https://localhost:8080/",
          "height": 80
        }
      },
      "source": [
        "featuresdf.head(1)"
      ],
      "execution_count": 0,
      "outputs": [
        {
          "output_type": "execute_result",
          "data": {
            "text/html": [
              "<div>\n",
              "<style scoped>\n",
              "    .dataframe tbody tr th:only-of-type {\n",
              "        vertical-align: middle;\n",
              "    }\n",
              "\n",
              "    .dataframe tbody tr th {\n",
              "        vertical-align: top;\n",
              "    }\n",
              "\n",
              "    .dataframe thead th {\n",
              "        text-align: right;\n",
              "    }\n",
              "</style>\n",
              "<table border=\"1\" class=\"dataframe\">\n",
              "  <thead>\n",
              "    <tr style=\"text-align: right;\">\n",
              "      <th></th>\n",
              "      <th>feature</th>\n",
              "      <th>class_label</th>\n",
              "    </tr>\n",
              "  </thead>\n",
              "  <tbody>\n",
              "    <tr>\n",
              "      <th>0</th>\n",
              "      <td>[[-81.72737160934581, -75.7642309052978, -79.7...</td>\n",
              "      <td>8</td>\n",
              "    </tr>\n",
              "  </tbody>\n",
              "</table>\n",
              "</div>"
            ],
            "text/plain": [
              "                                             feature  class_label\n",
              "0  [[-81.72737160934581, -75.7642309052978, -79.7...            8"
            ]
          },
          "metadata": {
            "tags": []
          },
          "execution_count": 99
        }
      ]
    },
    {
      "cell_type": "code",
      "metadata": {
        "id": "DreKxFHF3pxT",
        "colab_type": "code",
        "colab": {}
      },
      "source": [
        "featuresdf.to_csv(\"train_feat.csv\", index=False)\n",
        "featuresdf_test.to_csv(\"test_feat.csv\", index=False)"
      ],
      "execution_count": 0,
      "outputs": []
    },
    {
      "cell_type": "code",
      "metadata": {
        "id": "_EDsVTxNsHXb",
        "colab_type": "code",
        "colab": {}
      },
      "source": [
        "from sklearn.utils import  class_weight\n",
        "\n",
        "cw = class_weight.compute_class_weight('balanced', np.unique(featuresdf[\"class_label\"]),\n",
        "                                                               featuresdf[\"class_label\"])"
      ],
      "execution_count": 0,
      "outputs": []
    },
    {
      "cell_type": "code",
      "metadata": {
        "id": "_DSWN4bOs3q8",
        "colab_type": "code",
        "outputId": "7b2054ed-b59e-4f2e-9cfc-7ab5ff64b587",
        "colab": {
          "base_uri": "https://localhost:8080/",
          "height": 187
        }
      },
      "source": [
        "list(cw)"
      ],
      "execution_count": 0,
      "outputs": [
        {
          "output_type": "execute_result",
          "data": {
            "text/plain": [
              "[0.9058333333333334,\n",
              " 1.776143790849673,\n",
              " 0.9058333333333334,\n",
              " 0.9058333333333334,\n",
              " 0.9058333333333334,\n",
              " 0.8709935897435898,\n",
              " 2.3630434782608694,\n",
              " 0.813622754491018,\n",
              " 0.8953871499176277,\n",
              " 0.9058333333333334]"
            ]
          },
          "metadata": {
            "tags": []
          },
          "execution_count": 103
        }
      ]
    },
    {
      "cell_type": "code",
      "metadata": {
        "id": "lkMlttdfs87l",
        "colab_type": "code",
        "outputId": "85561edb-2684-4284-b7e2-7911003a85f3",
        "colab": {
          "base_uri": "https://localhost:8080/",
          "height": 204
        }
      },
      "source": [
        "featuresdf.class_label.value_counts()"
      ],
      "execution_count": 0,
      "outputs": [
        {
          "output_type": "execute_result",
          "data": {
            "text/plain": [
              "7    668\n",
              "5    624\n",
              "8    607\n",
              "3    600\n",
              "2    600\n",
              "9    600\n",
              "4    600\n",
              "0    600\n",
              "1    306\n",
              "6    230\n",
              "Name: class_label, dtype: int64"
            ]
          },
          "metadata": {
            "tags": []
          },
          "execution_count": 104
        }
      ]
    },
    {
      "cell_type": "code",
      "metadata": {
        "id": "XLeCaRqgodPK",
        "colab_type": "code",
        "outputId": "89477b33-c149-4729-e424-14e6482c1312",
        "colab": {
          "base_uri": "https://localhost:8080/",
          "height": 34
        }
      },
      "source": [
        "from keras.utils import to_categorical"
      ],
      "execution_count": 0,
      "outputs": [
        {
          "output_type": "stream",
          "text": [
            "Using TensorFlow backend.\n"
          ],
          "name": "stderr"
        }
      ]
    },
    {
      "cell_type": "code",
      "metadata": {
        "id": "rulmrlp3oy69",
        "colab_type": "code",
        "colab": {}
      },
      "source": [
        "X = np.array(featuresdf.feature.tolist())\n",
        "y = np.array(featuresdf.class_label.tolist())\n",
        "y = to_categorical(y)"
      ],
      "execution_count": 0,
      "outputs": []
    },
    {
      "cell_type": "code",
      "metadata": {
        "id": "qmQSRRGWpJj3",
        "colab_type": "code",
        "colab": {}
      },
      "source": [
        "X_test = np.array(featuresdf_test.feature.tolist())"
      ],
      "execution_count": 0,
      "outputs": []
    },
    {
      "cell_type": "code",
      "metadata": {
        "id": "6bQg-rUVpZ99",
        "colab_type": "code",
        "colab": {}
      },
      "source": [
        "from sklearn.model_selection import train_test_split \n",
        "\n",
        "x_train, x_val, y_train, y_val = train_test_split(X, y, test_size=0.125, random_state = 42)"
      ],
      "execution_count": 0,
      "outputs": []
    },
    {
      "cell_type": "code",
      "metadata": {
        "id": "Q5J5FbAIp2rx",
        "colab_type": "code",
        "colab": {}
      },
      "source": [
        "num_rows = 40\n",
        "num_columns = 174\n",
        "num_channels = 1"
      ],
      "execution_count": 0,
      "outputs": []
    },
    {
      "cell_type": "code",
      "metadata": {
        "id": "z1S0s51F-1ee",
        "colab_type": "code",
        "colab": {}
      },
      "source": [
        "from keras.utils import Sequence \n",
        "import keras\n",
        "from sklearn.preprocessing import normalize"
      ],
      "execution_count": 0,
      "outputs": []
    },
    {
      "cell_type": "code",
      "metadata": {
        "id": "UHsV4yar8YzW",
        "colab_type": "code",
        "colab": {}
      },
      "source": [
        "class DataGenerator(Sequence):\n",
        "    'Generates data for Keras'\n",
        "    def __init__(self, X_path,y, batch_size=10):\n",
        "        'Initialization'\n",
        "        self.batch_size = batch_size\n",
        "        self.X_path = X_path\n",
        "        self.y = y\n",
        "\n",
        "    def __len__(self):\n",
        "        'Denotes the number of batches per epoch'\n",
        "        return int(np.floor(len(self.X_path) / self.batch_size))\n",
        "\n",
        "    def __getitem__(self, index):\n",
        "        'Generate one batch of data'\n",
        "        # Generate indexes of the batch\n",
        "        X_path_batch = self.X_path[index*self.batch_size:(index+1)*self.batch_size]\n",
        "        y_batch = self.y[index*self.batch_size:(index+1)*self.batch_size]\n",
        "        # Generate data\n",
        "        X = []\n",
        "        y = []\n",
        "        for x_p,y_p in zip(X_path_batch,y_batch):\n",
        "            y.append(y_p)\n",
        "            x_p = x_p.reshape(num_rows, num_columns, num_channels)\n",
        "            X.append(x_p)\n",
        "        X = np.array(X)\n",
        "        y = np.array(y)\n",
        "        return  X, y"
      ],
      "execution_count": 0,
      "outputs": []
    },
    {
      "cell_type": "code",
      "metadata": {
        "id": "5z3gDm9b-d-h",
        "colab_type": "code",
        "colab": {}
      },
      "source": [
        "training_generator = DataGenerator(x_train,y_train,batch_size=64)\n",
        "validation_generator = DataGenerator(x_val,y_val,batch_size=64)"
      ],
      "execution_count": 0,
      "outputs": []
    },
    {
      "cell_type": "code",
      "metadata": {
        "id": "LolVNMBx_2vP",
        "colab_type": "code",
        "colab": {}
      },
      "source": [
        "from keras.layers.normalization import BatchNormalization\n",
        "from keras.layers.convolutional import Conv2D\n",
        "from keras.layers.convolutional import AveragePooling2D\n",
        "from keras.layers.core import Activation\n",
        "from keras.layers.core import Dense\n",
        "from keras.layers import Flatten\n",
        "from keras.layers import Input\n",
        "from keras.models import Model\n",
        "from keras.layers import add\n",
        "from keras.regularizers import l2\n",
        "from keras import backend as K\n",
        "from keras.layers.core import Dropout"
      ],
      "execution_count": 0,
      "outputs": []
    },
    {
      "cell_type": "code",
      "metadata": {
        "id": "zxhXvdCO_G8V",
        "colab_type": "code",
        "colab": {}
      },
      "source": [
        "class WideRN:\n",
        "  def main_block(x, filters, n, strides, dropout):\n",
        "    \n",
        "\t  # Normal part\n",
        "\t  x_res = Conv2D(filters, (3,3), strides=strides, padding=\"same\")(x)\n",
        "\t  x_res = BatchNormalization()(x_res)\n",
        "\t  x_res = Activation('relu')(x_res)\n",
        "\t  x_res = Conv2D(filters, (3,3), padding=\"same\")(x_res)\n",
        "\t  # Alternative branch\n",
        "\t  x = Conv2D(filters, (1,1), strides=strides)(x)\n",
        "\t  # Merge Branches\n",
        "\t  x = add([x_res, x])\n",
        "\n",
        "\t  for i in range(n-1):\n",
        "\t\t  # Residual conection\n",
        "\t\t  x_res = BatchNormalization()(x)\n",
        "\t\t  x_res = Activation('relu')(x_res)\n",
        "\t\t  x_res = Conv2D(filters, (3,3), padding=\"same\")(x_res)\n",
        "\t\t  # Apply dropout if given\n",
        "\t\t  if dropout: x_res = Dropout(dropout)(x)\n",
        "\t\t  # Second part\n",
        "\t\t  x_res = BatchNormalization()(x_res)\n",
        "\t\t  x_res = Activation('relu')(x_res)\n",
        "\t\t  x_res = Conv2D(filters, (3,3), padding=\"same\")(x_res)\n",
        "\t\t  # Merge branches\n",
        "\t\t  x = add([x, x_res])\n",
        "\n",
        "\t  # Inter block part\n",
        "\t  x = BatchNormalization()(x)\n",
        "\t  x = Activation('relu')(x)\n",
        "\t  return x\n",
        "  \n",
        "  @staticmethod\n",
        "  def build(input_dims, output_dim, n, k, act= \"relu\", dropout=None):\n",
        "    n = (n-4)//6\n",
        "    # This returns a tensor input to the model\n",
        "    inputs = Input(shape=(input_dims))\n",
        "\n",
        "\t  # Head of the model\n",
        "    x = Conv2D(16, (3,3), padding=\"same\")(inputs)\n",
        "    x = BatchNormalization()(x)\n",
        "    x = Activation('relu')(x)\n",
        "    # 3 Blocks (normal-residual)\n",
        "    x = WideRN.main_block(x, 16*k, n, (1,1), dropout) # 0\n",
        "    x = WideRN.main_block(x, 32*k, n, (2,2), dropout) # 1\n",
        "    x = WideRN.main_block(x, 64*k, n, (2,2), dropout) # 2\n",
        "\n",
        "    # Final part of the model\n",
        "    x = AveragePooling2D((8,8))(x)\n",
        "    x = Flatten()(x)\n",
        "    x = Dense(output_dim)(x)\n",
        "    outputs = Activation(\"softmax\")(x)\n",
        "    model = Model(inputs=inputs, outputs=outputs)\n",
        "    return model\n"
      ],
      "execution_count": 0,
      "outputs": []
    },
    {
      "cell_type": "code",
      "metadata": {
        "id": "DdtW841i_kzd",
        "colab_type": "code",
        "colab": {}
      },
      "source": [
        "model = WideRN.build((40,174,1), 10, 22, 4)"
      ],
      "execution_count": 0,
      "outputs": []
    },
    {
      "cell_type": "code",
      "metadata": {
        "id": "cfD3pbWaAYZv",
        "colab_type": "code",
        "outputId": "18d99055-33e5-400a-840a-aace9c4c3157",
        "colab": {
          "base_uri": "https://localhost:8080/",
          "height": 2805
        }
      },
      "source": [
        "model.summary()"
      ],
      "execution_count": 0,
      "outputs": [
        {
          "output_type": "stream",
          "text": [
            "__________________________________________________________________________________________________\n",
            "Layer (type)                    Output Shape         Param #     Connected to                     \n",
            "==================================================================================================\n",
            "input_1 (InputLayer)            (None, 40, 174, 1)   0                                            \n",
            "__________________________________________________________________________________________________\n",
            "conv2d_1 (Conv2D)               (None, 40, 174, 16)  160         input_1[0][0]                    \n",
            "__________________________________________________________________________________________________\n",
            "batch_normalization_1 (BatchNor (None, 40, 174, 16)  64          conv2d_1[0][0]                   \n",
            "__________________________________________________________________________________________________\n",
            "activation_1 (Activation)       (None, 40, 174, 16)  0           batch_normalization_1[0][0]      \n",
            "__________________________________________________________________________________________________\n",
            "conv2d_2 (Conv2D)               (None, 40, 174, 64)  9280        activation_1[0][0]               \n",
            "__________________________________________________________________________________________________\n",
            "batch_normalization_2 (BatchNor (None, 40, 174, 64)  256         conv2d_2[0][0]                   \n",
            "__________________________________________________________________________________________________\n",
            "activation_2 (Activation)       (None, 40, 174, 64)  0           batch_normalization_2[0][0]      \n",
            "__________________________________________________________________________________________________\n",
            "conv2d_3 (Conv2D)               (None, 40, 174, 64)  36928       activation_2[0][0]               \n",
            "__________________________________________________________________________________________________\n",
            "conv2d_4 (Conv2D)               (None, 40, 174, 64)  1088        activation_1[0][0]               \n",
            "__________________________________________________________________________________________________\n",
            "add_1 (Add)                     (None, 40, 174, 64)  0           conv2d_3[0][0]                   \n",
            "                                                                 conv2d_4[0][0]                   \n",
            "__________________________________________________________________________________________________\n",
            "batch_normalization_3 (BatchNor (None, 40, 174, 64)  256         add_1[0][0]                      \n",
            "__________________________________________________________________________________________________\n",
            "activation_3 (Activation)       (None, 40, 174, 64)  0           batch_normalization_3[0][0]      \n",
            "__________________________________________________________________________________________________\n",
            "conv2d_5 (Conv2D)               (None, 40, 174, 64)  36928       activation_3[0][0]               \n",
            "__________________________________________________________________________________________________\n",
            "batch_normalization_4 (BatchNor (None, 40, 174, 64)  256         conv2d_5[0][0]                   \n",
            "__________________________________________________________________________________________________\n",
            "activation_4 (Activation)       (None, 40, 174, 64)  0           batch_normalization_4[0][0]      \n",
            "__________________________________________________________________________________________________\n",
            "conv2d_6 (Conv2D)               (None, 40, 174, 64)  36928       activation_4[0][0]               \n",
            "__________________________________________________________________________________________________\n",
            "add_2 (Add)                     (None, 40, 174, 64)  0           add_1[0][0]                      \n",
            "                                                                 conv2d_6[0][0]                   \n",
            "__________________________________________________________________________________________________\n",
            "batch_normalization_5 (BatchNor (None, 40, 174, 64)  256         add_2[0][0]                      \n",
            "__________________________________________________________________________________________________\n",
            "activation_5 (Activation)       (None, 40, 174, 64)  0           batch_normalization_5[0][0]      \n",
            "__________________________________________________________________________________________________\n",
            "conv2d_7 (Conv2D)               (None, 40, 174, 64)  36928       activation_5[0][0]               \n",
            "__________________________________________________________________________________________________\n",
            "batch_normalization_6 (BatchNor (None, 40, 174, 64)  256         conv2d_7[0][0]                   \n",
            "__________________________________________________________________________________________________\n",
            "activation_6 (Activation)       (None, 40, 174, 64)  0           batch_normalization_6[0][0]      \n",
            "__________________________________________________________________________________________________\n",
            "conv2d_8 (Conv2D)               (None, 40, 174, 64)  36928       activation_6[0][0]               \n",
            "__________________________________________________________________________________________________\n",
            "add_3 (Add)                     (None, 40, 174, 64)  0           add_2[0][0]                      \n",
            "                                                                 conv2d_8[0][0]                   \n",
            "__________________________________________________________________________________________________\n",
            "batch_normalization_7 (BatchNor (None, 40, 174, 64)  256         add_3[0][0]                      \n",
            "__________________________________________________________________________________________________\n",
            "activation_7 (Activation)       (None, 40, 174, 64)  0           batch_normalization_7[0][0]      \n",
            "__________________________________________________________________________________________________\n",
            "conv2d_9 (Conv2D)               (None, 20, 87, 128)  73856       activation_7[0][0]               \n",
            "__________________________________________________________________________________________________\n",
            "batch_normalization_8 (BatchNor (None, 20, 87, 128)  512         conv2d_9[0][0]                   \n",
            "__________________________________________________________________________________________________\n",
            "activation_8 (Activation)       (None, 20, 87, 128)  0           batch_normalization_8[0][0]      \n",
            "__________________________________________________________________________________________________\n",
            "conv2d_10 (Conv2D)              (None, 20, 87, 128)  147584      activation_8[0][0]               \n",
            "__________________________________________________________________________________________________\n",
            "conv2d_11 (Conv2D)              (None, 20, 87, 128)  8320        activation_7[0][0]               \n",
            "__________________________________________________________________________________________________\n",
            "add_4 (Add)                     (None, 20, 87, 128)  0           conv2d_10[0][0]                  \n",
            "                                                                 conv2d_11[0][0]                  \n",
            "__________________________________________________________________________________________________\n",
            "batch_normalization_9 (BatchNor (None, 20, 87, 128)  512         add_4[0][0]                      \n",
            "__________________________________________________________________________________________________\n",
            "activation_9 (Activation)       (None, 20, 87, 128)  0           batch_normalization_9[0][0]      \n",
            "__________________________________________________________________________________________________\n",
            "conv2d_12 (Conv2D)              (None, 20, 87, 128)  147584      activation_9[0][0]               \n",
            "__________________________________________________________________________________________________\n",
            "batch_normalization_10 (BatchNo (None, 20, 87, 128)  512         conv2d_12[0][0]                  \n",
            "__________________________________________________________________________________________________\n",
            "activation_10 (Activation)      (None, 20, 87, 128)  0           batch_normalization_10[0][0]     \n",
            "__________________________________________________________________________________________________\n",
            "conv2d_13 (Conv2D)              (None, 20, 87, 128)  147584      activation_10[0][0]              \n",
            "__________________________________________________________________________________________________\n",
            "add_5 (Add)                     (None, 20, 87, 128)  0           add_4[0][0]                      \n",
            "                                                                 conv2d_13[0][0]                  \n",
            "__________________________________________________________________________________________________\n",
            "batch_normalization_11 (BatchNo (None, 20, 87, 128)  512         add_5[0][0]                      \n",
            "__________________________________________________________________________________________________\n",
            "activation_11 (Activation)      (None, 20, 87, 128)  0           batch_normalization_11[0][0]     \n",
            "__________________________________________________________________________________________________\n",
            "conv2d_14 (Conv2D)              (None, 20, 87, 128)  147584      activation_11[0][0]              \n",
            "__________________________________________________________________________________________________\n",
            "batch_normalization_12 (BatchNo (None, 20, 87, 128)  512         conv2d_14[0][0]                  \n",
            "__________________________________________________________________________________________________\n",
            "activation_12 (Activation)      (None, 20, 87, 128)  0           batch_normalization_12[0][0]     \n",
            "__________________________________________________________________________________________________\n",
            "conv2d_15 (Conv2D)              (None, 20, 87, 128)  147584      activation_12[0][0]              \n",
            "__________________________________________________________________________________________________\n",
            "add_6 (Add)                     (None, 20, 87, 128)  0           add_5[0][0]                      \n",
            "                                                                 conv2d_15[0][0]                  \n",
            "__________________________________________________________________________________________________\n",
            "batch_normalization_13 (BatchNo (None, 20, 87, 128)  512         add_6[0][0]                      \n",
            "__________________________________________________________________________________________________\n",
            "activation_13 (Activation)      (None, 20, 87, 128)  0           batch_normalization_13[0][0]     \n",
            "__________________________________________________________________________________________________\n",
            "conv2d_16 (Conv2D)              (None, 10, 44, 256)  295168      activation_13[0][0]              \n",
            "__________________________________________________________________________________________________\n",
            "batch_normalization_14 (BatchNo (None, 10, 44, 256)  1024        conv2d_16[0][0]                  \n",
            "__________________________________________________________________________________________________\n",
            "activation_14 (Activation)      (None, 10, 44, 256)  0           batch_normalization_14[0][0]     \n",
            "__________________________________________________________________________________________________\n",
            "conv2d_17 (Conv2D)              (None, 10, 44, 256)  590080      activation_14[0][0]              \n",
            "__________________________________________________________________________________________________\n",
            "conv2d_18 (Conv2D)              (None, 10, 44, 256)  33024       activation_13[0][0]              \n",
            "__________________________________________________________________________________________________\n",
            "add_7 (Add)                     (None, 10, 44, 256)  0           conv2d_17[0][0]                  \n",
            "                                                                 conv2d_18[0][0]                  \n",
            "__________________________________________________________________________________________________\n",
            "batch_normalization_15 (BatchNo (None, 10, 44, 256)  1024        add_7[0][0]                      \n",
            "__________________________________________________________________________________________________\n",
            "activation_15 (Activation)      (None, 10, 44, 256)  0           batch_normalization_15[0][0]     \n",
            "__________________________________________________________________________________________________\n",
            "conv2d_19 (Conv2D)              (None, 10, 44, 256)  590080      activation_15[0][0]              \n",
            "__________________________________________________________________________________________________\n",
            "batch_normalization_16 (BatchNo (None, 10, 44, 256)  1024        conv2d_19[0][0]                  \n",
            "__________________________________________________________________________________________________\n",
            "activation_16 (Activation)      (None, 10, 44, 256)  0           batch_normalization_16[0][0]     \n",
            "__________________________________________________________________________________________________\n",
            "conv2d_20 (Conv2D)              (None, 10, 44, 256)  590080      activation_16[0][0]              \n",
            "__________________________________________________________________________________________________\n",
            "add_8 (Add)                     (None, 10, 44, 256)  0           add_7[0][0]                      \n",
            "                                                                 conv2d_20[0][0]                  \n",
            "__________________________________________________________________________________________________\n",
            "batch_normalization_17 (BatchNo (None, 10, 44, 256)  1024        add_8[0][0]                      \n",
            "__________________________________________________________________________________________________\n",
            "activation_17 (Activation)      (None, 10, 44, 256)  0           batch_normalization_17[0][0]     \n",
            "__________________________________________________________________________________________________\n",
            "conv2d_21 (Conv2D)              (None, 10, 44, 256)  590080      activation_17[0][0]              \n",
            "__________________________________________________________________________________________________\n",
            "batch_normalization_18 (BatchNo (None, 10, 44, 256)  1024        conv2d_21[0][0]                  \n",
            "__________________________________________________________________________________________________\n",
            "activation_18 (Activation)      (None, 10, 44, 256)  0           batch_normalization_18[0][0]     \n",
            "__________________________________________________________________________________________________\n",
            "conv2d_22 (Conv2D)              (None, 10, 44, 256)  590080      activation_18[0][0]              \n",
            "__________________________________________________________________________________________________\n",
            "add_9 (Add)                     (None, 10, 44, 256)  0           add_8[0][0]                      \n",
            "                                                                 conv2d_22[0][0]                  \n",
            "__________________________________________________________________________________________________\n",
            "batch_normalization_19 (BatchNo (None, 10, 44, 256)  1024        add_9[0][0]                      \n",
            "__________________________________________________________________________________________________\n",
            "activation_19 (Activation)      (None, 10, 44, 256)  0           batch_normalization_19[0][0]     \n",
            "__________________________________________________________________________________________________\n",
            "average_pooling2d_1 (AveragePoo (None, 1, 5, 256)    0           activation_19[0][0]              \n",
            "__________________________________________________________________________________________________\n",
            "flatten_1 (Flatten)             (None, 1280)         0           average_pooling2d_1[0][0]        \n",
            "__________________________________________________________________________________________________\n",
            "dense_1 (Dense)                 (None, 10)           12810       flatten_1[0][0]                  \n",
            "__________________________________________________________________________________________________\n",
            "activation_20 (Activation)      (None, 10)           0           dense_1[0][0]                    \n",
            "==================================================================================================\n",
            "Total params: 4,317,482\n",
            "Trainable params: 4,312,074\n",
            "Non-trainable params: 5,408\n",
            "__________________________________________________________________________________________________\n"
          ],
          "name": "stdout"
        }
      ]
    },
    {
      "cell_type": "code",
      "metadata": {
        "id": "0NeSj5haA0Sn",
        "colab_type": "code",
        "colab": {}
      },
      "source": [
        "model.compile(optimizer=\"adam\" , loss=\"categorical_crossentropy\", metrics=['accuracy'])"
      ],
      "execution_count": 0,
      "outputs": []
    },
    {
      "cell_type": "code",
      "metadata": {
        "id": "Py-bigisAnsv",
        "colab_type": "code",
        "outputId": "b1265b2b-7a6a-4353-d312-0ef7f084e5d0",
        "colab": {
          "base_uri": "https://localhost:8080/",
          "height": 1397
        }
      },
      "source": [
        "his = model.fit_generator(training_generator,\n",
        "                    steps_per_epoch=len(x_train)//64,\n",
        "                    epochs=40,\n",
        "                    validation_data=validation_generator,\n",
        "                   callbacks=[keras.callbacks.ModelCheckpoint(\n",
        "                  'Model_wrn.val-acc={val_acc:.2f}.val-loss={val_loss:.2f}.h5',\n",
        "                  monitor='val_loss',\n",
        "                  verbose=0,\n",
        "                  save_best_only=True,\n",
        "                  save_weights_only=False,\n",
        "                  mode='auto',\n",
        "                  period=1\n",
        "      )])"
      ],
      "execution_count": 0,
      "outputs": [
        {
          "output_type": "stream",
          "text": [
            "Epoch 1/40\n",
            "74/74 [==============================] - 42s 567ms/step - loss: 1.2715 - acc: 0.5403 - val_loss: 3.2292 - val_acc: 0.4109\n",
            "Epoch 2/40\n",
            "74/74 [==============================] - 35s 476ms/step - loss: 0.7385 - acc: 0.7553 - val_loss: 4.7957 - val_acc: 0.3156\n",
            "Epoch 3/40\n",
            "74/74 [==============================] - 35s 478ms/step - loss: 0.5499 - acc: 0.8203 - val_loss: 3.5862 - val_acc: 0.4688\n",
            "Epoch 4/40\n",
            "74/74 [==============================] - 35s 474ms/step - loss: 0.4486 - acc: 0.8528 - val_loss: 2.9648 - val_acc: 0.4984\n",
            "Epoch 5/40\n",
            "74/74 [==============================] - 35s 477ms/step - loss: 0.3739 - acc: 0.8752 - val_loss: 1.1785 - val_acc: 0.6813\n",
            "Epoch 6/40\n",
            "74/74 [==============================] - 35s 475ms/step - loss: 0.2754 - acc: 0.9035 - val_loss: 1.3242 - val_acc: 0.7047\n",
            "Epoch 7/40\n",
            "74/74 [==============================] - 35s 475ms/step - loss: 0.2107 - acc: 0.9291 - val_loss: 1.2936 - val_acc: 0.6797\n",
            "Epoch 8/40\n",
            "74/74 [==============================] - 35s 476ms/step - loss: 0.2182 - acc: 0.9244 - val_loss: 2.0332 - val_acc: 0.5828\n",
            "Epoch 9/40\n",
            "74/74 [==============================] - 35s 476ms/step - loss: 0.2141 - acc: 0.9305 - val_loss: 0.6257 - val_acc: 0.8344\n",
            "Epoch 10/40\n",
            "74/74 [==============================] - 35s 476ms/step - loss: 0.1617 - acc: 0.9457 - val_loss: 0.8596 - val_acc: 0.7812\n",
            "Epoch 11/40\n",
            "74/74 [==============================] - 35s 476ms/step - loss: 0.1066 - acc: 0.9660 - val_loss: 0.3904 - val_acc: 0.8953\n",
            "Epoch 12/40\n",
            "74/74 [==============================] - 35s 476ms/step - loss: 0.0797 - acc: 0.9751 - val_loss: 0.3155 - val_acc: 0.9109\n",
            "Epoch 13/40\n",
            "74/74 [==============================] - 35s 476ms/step - loss: 0.1056 - acc: 0.9647 - val_loss: 0.4932 - val_acc: 0.8703\n",
            "Epoch 14/40\n",
            "74/74 [==============================] - 35s 476ms/step - loss: 0.0905 - acc: 0.9709 - val_loss: 0.5806 - val_acc: 0.8547\n",
            "Epoch 15/40\n",
            "74/74 [==============================] - 35s 475ms/step - loss: 0.0858 - acc: 0.9702 - val_loss: 0.5644 - val_acc: 0.8438\n",
            "Epoch 16/40\n",
            "74/74 [==============================] - 35s 475ms/step - loss: 0.0666 - acc: 0.9797 - val_loss: 0.3442 - val_acc: 0.9328\n",
            "Epoch 17/40\n",
            "74/74 [==============================] - 35s 474ms/step - loss: 0.0561 - acc: 0.9818 - val_loss: 0.5655 - val_acc: 0.8594\n",
            "Epoch 18/40\n",
            "74/74 [==============================] - 35s 475ms/step - loss: 0.0594 - acc: 0.9806 - val_loss: 1.3164 - val_acc: 0.7469\n",
            "Epoch 19/40\n",
            "74/74 [==============================] - 35s 474ms/step - loss: 0.0939 - acc: 0.9692 - val_loss: 0.6145 - val_acc: 0.8578\n",
            "Epoch 20/40\n",
            "74/74 [==============================] - 35s 475ms/step - loss: 0.0801 - acc: 0.9730 - val_loss: 1.0926 - val_acc: 0.7891\n",
            "Epoch 21/40\n",
            "74/74 [==============================] - 35s 474ms/step - loss: 0.0542 - acc: 0.9814 - val_loss: 0.4038 - val_acc: 0.8922\n",
            "Epoch 22/40\n",
            "74/74 [==============================] - 35s 475ms/step - loss: 0.0206 - acc: 0.9964 - val_loss: 0.3065 - val_acc: 0.9219\n",
            "Epoch 23/40\n",
            "74/74 [==============================] - 35s 474ms/step - loss: 0.0150 - acc: 0.9956 - val_loss: 0.3103 - val_acc: 0.9203\n",
            "Epoch 24/40\n",
            "74/74 [==============================] - 35s 474ms/step - loss: 0.0175 - acc: 0.9947 - val_loss: 0.3018 - val_acc: 0.9219\n",
            "Epoch 25/40\n",
            "74/74 [==============================] - 35s 474ms/step - loss: 0.1071 - acc: 0.9645 - val_loss: 0.7097 - val_acc: 0.8313\n",
            "Epoch 26/40\n",
            "74/74 [==============================] - 35s 474ms/step - loss: 0.0720 - acc: 0.9751 - val_loss: 1.1166 - val_acc: 0.7875\n",
            "Epoch 27/40\n",
            "74/74 [==============================] - 35s 474ms/step - loss: 0.0442 - acc: 0.9867 - val_loss: 0.4311 - val_acc: 0.9000\n",
            "Epoch 28/40\n",
            "74/74 [==============================] - 35s 475ms/step - loss: 0.0184 - acc: 0.9960 - val_loss: 0.3755 - val_acc: 0.9141\n",
            "Epoch 29/40\n",
            "74/74 [==============================] - 35s 474ms/step - loss: 0.0065 - acc: 0.9989 - val_loss: 0.2518 - val_acc: 0.9437\n",
            "Epoch 30/40\n",
            "74/74 [==============================] - 35s 474ms/step - loss: 0.0028 - acc: 0.9998 - val_loss: 0.2516 - val_acc: 0.9406\n",
            "Epoch 31/40\n",
            "74/74 [==============================] - 35s 475ms/step - loss: 0.0030 - acc: 0.9996 - val_loss: 0.2451 - val_acc: 0.9391\n",
            "Epoch 32/40\n",
            "74/74 [==============================] - 35s 475ms/step - loss: 0.0023 - acc: 0.9996 - val_loss: 0.2342 - val_acc: 0.9469\n",
            "Epoch 33/40\n",
            "74/74 [==============================] - 35s 475ms/step - loss: 0.0011 - acc: 0.9998 - val_loss: 0.2344 - val_acc: 0.9453\n",
            "Epoch 34/40\n",
            "74/74 [==============================] - 35s 475ms/step - loss: 7.6385e-04 - acc: 0.9998 - val_loss: 0.2360 - val_acc: 0.9453\n",
            "Epoch 35/40\n",
            "74/74 [==============================] - 35s 475ms/step - loss: 5.0185e-04 - acc: 1.0000 - val_loss: 0.2368 - val_acc: 0.9453\n",
            "Epoch 36/40\n",
            "74/74 [==============================] - 35s 474ms/step - loss: 4.4265e-04 - acc: 1.0000 - val_loss: 0.2365 - val_acc: 0.9469\n",
            "Epoch 37/40\n",
            "74/74 [==============================] - 35s 475ms/step - loss: 3.8540e-04 - acc: 1.0000 - val_loss: 0.2373 - val_acc: 0.9453\n",
            "Epoch 38/40\n",
            "74/74 [==============================] - 35s 475ms/step - loss: 3.4710e-04 - acc: 1.0000 - val_loss: 0.2385 - val_acc: 0.9500\n",
            "Epoch 39/40\n",
            "74/74 [==============================] - 35s 475ms/step - loss: 3.1101e-04 - acc: 1.0000 - val_loss: 0.2372 - val_acc: 0.9500\n",
            "Epoch 40/40\n",
            "74/74 [==============================] - 35s 474ms/step - loss: 2.8319e-04 - acc: 1.0000 - val_loss: 0.2399 - val_acc: 0.9500\n"
          ],
          "name": "stdout"
        }
      ]
    },
    {
      "cell_type": "code",
      "metadata": {
        "id": "0goIeiNX9u0P",
        "colab_type": "code",
        "outputId": "06a47827-feb4-44ab-c114-b188cf198b51",
        "colab": {
          "base_uri": "https://localhost:8080/",
          "height": 312
        }
      },
      "source": [
        "plt.plot(np.arange(0, 40), his.history[\"loss\"], label=\"train_loss\")\n",
        "plt.plot(np.arange(0, 40), his.history[\"val_loss\"], label=\"val_loss\")\n",
        "plt.title(\"Loss\")\n",
        "plt.xlabel(\"Epochs\")\n",
        "plt.ylabel(\"Loss\")\n",
        "plt.legend(loc=\"best\")"
      ],
      "execution_count": 0,
      "outputs": [
        {
          "output_type": "execute_result",
          "data": {
            "text/plain": [
              "<matplotlib.legend.Legend at 0x7fc4b671c1d0>"
            ]
          },
          "metadata": {
            "tags": []
          },
          "execution_count": 171
        },
        {
          "output_type": "display_data",
          "data": {
            "image/png": "[encoded data removed]",
            "text/plain": [
              "<Figure size 432x288 with 1 Axes>"
            ]
          },
          "metadata": {
            "tags": []
          }
        }
      ]
    },
    {
      "cell_type": "code",
      "metadata": {
        "id": "lK642ehs-B5k",
        "colab_type": "code",
        "outputId": "54fa349c-536b-4e62-841c-2cd3ddf74f12",
        "colab": {
          "base_uri": "https://localhost:8080/",
          "height": 312
        }
      },
      "source": [
        "plt.plot(np.arange(0, 40), his.history[\"acc\"], label=\"train_acc\")\n",
        "plt.plot(np.arange(0, 40), his.history[\"val_acc\"], label=\"val_acc\")\n",
        "plt.title(\"Accuracy\")\n",
        "plt.xlabel(\"Epochs\")\n",
        "plt.ylabel(\"Accuacy\")\n",
        "plt.legend(loc=\"best\")"
      ],
      "execution_count": 0,
      "outputs": [
        {
          "output_type": "execute_result",
          "data": {
            "text/plain": [
              "<matplotlib.legend.Legend at 0x7fc4bc7a7be0>"
            ]
          },
          "metadata": {
            "tags": []
          },
          "execution_count": 173
        },
        {
          "output_type": "display_data",
          "data": {
            "image/png": "[encoded data removed]",
            "text/plain": [
              "<Figure size 432x288 with 1 Axes>"
            ]
          },
          "metadata": {
            "tags": []
          }
        }
      ]
    },
    {
      "cell_type": "markdown",
      "metadata": {
        "id": "SKFJPc_-_Tc6",
        "colab_type": "text"
      },
      "source": [
        "Now, I need to do 2 things.\n",
        " \n",
        " * Scale the input matrices in the range  0 to 1\n",
        " * Calculate class_weights for training."
      ]
    },
    {
      "cell_type": "code",
      "metadata": {
        "id": "8ReOpNPPEKgA",
        "colab_type": "code",
        "colab": {}
      },
      "source": [
        "class NDataGenerator(Sequence):\n",
        "    'Generates data for Keras'\n",
        "    def __init__(self, X_path,y, batch_size=10):\n",
        "        'Initialization'\n",
        "        self.batch_size = batch_size\n",
        "        self.X_path = X_path\n",
        "        self.y = y\n",
        "\n",
        "    def __len__(self):\n",
        "        'Denotes the number of batches per epoch'\n",
        "        return int(np.floor(len(self.X_path) / self.batch_size))\n",
        "\n",
        "    def __getitem__(self, index):\n",
        "        'Generate one batch of data'\n",
        "        # Generate indexes of the batch\n",
        "        X_path_batch = self.X_path[index*self.batch_size:(index+1)*self.batch_size]\n",
        "        y_batch = self.y[index*self.batch_size:(index+1)*self.batch_size]\n",
        "        # Generate data\n",
        "        X = []\n",
        "        y = []\n",
        "        for x_p,y_p in zip(X_path_batch,y_batch):\n",
        "            y.append(y_p)\n",
        "            x_p = normalize(x_p)\n",
        "            x_p = x_p.reshape(num_rows, num_columns, num_channels)\n",
        "            X.append(x_p)\n",
        "        X = np.array(X)\n",
        "        y = np.array(y)\n",
        "        return  X, y"
      ],
      "execution_count": 0,
      "outputs": []
    },
    {
      "cell_type": "code",
      "metadata": {
        "id": "T_AOMjB-ElGd",
        "colab_type": "code",
        "colab": {}
      },
      "source": [
        "training_generator = NDataGenerator(x_train,y_train,batch_size=64)\n",
        "validation_generator = NDataGenerator(x_val,y_val,batch_size=64)"
      ],
      "execution_count": 0,
      "outputs": []
    },
    {
      "cell_type": "code",
      "metadata": {
        "id": "BTgNFfgwov6c",
        "colab_type": "code",
        "colab": {}
      },
      "source": [
        "model2  =  WideRN.build((40,174,1), 10, 22, 4)"
      ],
      "execution_count": 0,
      "outputs": []
    },
    {
      "cell_type": "code",
      "metadata": {
        "id": "xOpm-JynvGqV",
        "colab_type": "code",
        "colab": {}
      },
      "source": [
        "model2.compile(optimizer=\"adam\" , loss=\"categorical_crossentropy\", metrics=['accuracy'])"
      ],
      "execution_count": 0,
      "outputs": []
    },
    {
      "cell_type": "code",
      "metadata": {
        "id": "PaoVFQ8RvOkQ",
        "colab_type": "code",
        "outputId": "704590e7-1d79-4c16-a4c0-f8f07acaced0",
        "colab": {
          "base_uri": "https://localhost:8080/",
          "height": 717
        }
      },
      "source": [
        "his2 = model2.fit_generator(training_generator,\n",
        "                    steps_per_epoch=len(x_train)//64,\n",
        "                    epochs=20,\n",
        "                    validation_data=validation_generator,\n",
        "                    class_weight = list(cw),\n",
        "                   callbacks=[keras.callbacks.ModelCheckpoint(\n",
        "                  'Model_wrn.val-acc={val_acc:.2f}.val-loss={val_loss:.2f}.h5',\n",
        "                  monitor='val_loss',\n",
        "                  verbose=0,\n",
        "                  save_best_only=True,\n",
        "                  save_weights_only=False,\n",
        "                  mode='auto',\n",
        "                  period=1\n",
        "      )]) "
      ],
      "execution_count": 0,
      "outputs": [
        {
          "output_type": "stream",
          "text": [
            "Epoch 1/20\n",
            "74/74 [==============================] - 49s 658ms/step - loss: 1.6574 - acc: 0.4012 - val_loss: 5.9813 - val_acc: 0.1812\n",
            "Epoch 2/20\n",
            "74/74 [==============================] - 35s 476ms/step - loss: 1.0849 - acc: 0.6066 - val_loss: 4.6038 - val_acc: 0.2484\n",
            "Epoch 3/20\n",
            "74/74 [==============================] - 35s 478ms/step - loss: 0.8488 - acc: 0.6943 - val_loss: 7.1257 - val_acc: 0.2594\n",
            "Epoch 4/20\n",
            "74/74 [==============================] - 35s 477ms/step - loss: 0.6865 - acc: 0.7553 - val_loss: 5.0071 - val_acc: 0.3953\n",
            "Epoch 5/20\n",
            "74/74 [==============================] - 35s 476ms/step - loss: 0.5832 - acc: 0.7962 - val_loss: 1.2095 - val_acc: 0.6516\n",
            "Epoch 6/20\n",
            "74/74 [==============================] - 35s 477ms/step - loss: 0.4799 - acc: 0.8340 - val_loss: 1.4451 - val_acc: 0.6328\n",
            "Epoch 7/20\n",
            "74/74 [==============================] - 35s 477ms/step - loss: 0.4153 - acc: 0.8556 - val_loss: 4.2214 - val_acc: 0.4078\n",
            "Epoch 8/20\n",
            "74/74 [==============================] - 35s 477ms/step - loss: 0.3247 - acc: 0.8904 - val_loss: 3.3456 - val_acc: 0.5453\n",
            "Epoch 9/20\n",
            "74/74 [==============================] - 35s 478ms/step - loss: 0.2919 - acc: 0.8976 - val_loss: 6.2385 - val_acc: 0.3281\n",
            "Epoch 10/20\n",
            "74/74 [==============================] - 35s 477ms/step - loss: 0.2585 - acc: 0.9101 - val_loss: 1.8479 - val_acc: 0.5578\n",
            "Epoch 11/20\n",
            "74/74 [==============================] - 35s 477ms/step - loss: 0.2237 - acc: 0.9210 - val_loss: 2.2517 - val_acc: 0.5984\n",
            "Epoch 12/20\n",
            "74/74 [==============================] - 35s 477ms/step - loss: 0.1596 - acc: 0.9474 - val_loss: 0.8299 - val_acc: 0.7562\n",
            "Epoch 13/20\n",
            "74/74 [==============================] - 35s 476ms/step - loss: 0.1429 - acc: 0.9546 - val_loss: 7.4994 - val_acc: 0.2891\n",
            "Epoch 14/20\n",
            "74/74 [==============================] - 35s 476ms/step - loss: 0.1338 - acc: 0.9527 - val_loss: 1.2504 - val_acc: 0.7094\n",
            "Epoch 15/20\n",
            "74/74 [==============================] - 35s 477ms/step - loss: 0.1383 - acc: 0.9552 - val_loss: 2.9173 - val_acc: 0.6109\n",
            "Epoch 16/20\n",
            "74/74 [==============================] - 35s 476ms/step - loss: 0.0966 - acc: 0.9698 - val_loss: 0.8113 - val_acc: 0.7828\n",
            "Epoch 17/20\n",
            "74/74 [==============================] - 35s 475ms/step - loss: 0.0544 - acc: 0.9869 - val_loss: 0.6504 - val_acc: 0.8125\n",
            "Epoch 18/20\n",
            "74/74 [==============================] - 35s 476ms/step - loss: 0.0848 - acc: 0.9728 - val_loss: 1.2855 - val_acc: 0.7641\n",
            "Epoch 19/20\n",
            "74/74 [==============================] - 35s 476ms/step - loss: 0.0820 - acc: 0.9723 - val_loss: 1.8196 - val_acc: 0.6891\n",
            "Epoch 20/20\n",
            "74/74 [==============================] - 35s 477ms/step - loss: 0.0385 - acc: 0.9880 - val_loss: 2.1596 - val_acc: 0.6000\n"
          ],
          "name": "stdout"
        }
      ]
    },
    {
      "cell_type": "code",
      "metadata": {
        "id": "T2nE84RdH8-3",
        "colab_type": "code",
        "outputId": "78868fb2-b50b-467c-8bc5-4c339577a6e2",
        "colab": {
          "base_uri": "https://localhost:8080/",
          "height": 717
        }
      },
      "source": [
        "his3 = model2.fit_generator(training_generator,\n",
        "                    steps_per_epoch=len(x_train)//64,\n",
        "                    epochs=40,\n",
        "                    initial_epoch = 20,\n",
        "                    validation_data=validation_generator,\n",
        "                    class_weight = list(cw),\n",
        "                   callbacks=[keras.callbacks.ModelCheckpoint(\n",
        "                  'Model_wrn.val-acc={val_acc:.2f}.val-loss={val_loss:.2f}.h5',\n",
        "                  monitor='val_loss',\n",
        "                  verbose=0,\n",
        "                  save_best_only=True,\n",
        "                  save_weights_only=False,\n",
        "                  mode='auto',\n",
        "                  period=1\n",
        "      )]) "
      ],
      "execution_count": 0,
      "outputs": [
        {
          "output_type": "stream",
          "text": [
            "Epoch 21/40\n",
            "74/74 [==============================] - 35s 473ms/step - loss: 0.0846 - acc: 0.9726 - val_loss: 1.3362 - val_acc: 0.7375\n",
            "Epoch 22/40\n",
            "74/74 [==============================] - 36s 480ms/step - loss: 0.0510 - acc: 0.9867 - val_loss: 1.5040 - val_acc: 0.7266\n",
            "Epoch 23/40\n",
            "74/74 [==============================] - 35s 477ms/step - loss: 0.0238 - acc: 0.9954 - val_loss: 1.0435 - val_acc: 0.7703\n",
            "Epoch 24/40\n",
            "74/74 [==============================] - 35s 478ms/step - loss: 0.0086 - acc: 0.9992 - val_loss: 0.4238 - val_acc: 0.8938\n",
            "Epoch 25/40\n",
            "74/74 [==============================] - 35s 478ms/step - loss: 0.0024 - acc: 0.9998 - val_loss: 0.3454 - val_acc: 0.9234\n",
            "Epoch 26/40\n",
            "74/74 [==============================] - 35s 477ms/step - loss: 0.0014 - acc: 0.9998 - val_loss: 0.3229 - val_acc: 0.9250\n",
            "Epoch 27/40\n",
            "74/74 [==============================] - 35s 479ms/step - loss: 9.5075e-04 - acc: 1.0000 - val_loss: 0.3278 - val_acc: 0.9266\n",
            "Epoch 28/40\n",
            "74/74 [==============================] - 35s 478ms/step - loss: 9.5122e-04 - acc: 0.9998 - val_loss: 0.3190 - val_acc: 0.9344\n",
            "Epoch 29/40\n",
            "74/74 [==============================] - 35s 477ms/step - loss: 0.0012 - acc: 0.9998 - val_loss: 0.3320 - val_acc: 0.9234\n",
            "Epoch 30/40\n",
            "74/74 [==============================] - 35s 479ms/step - loss: 0.0012 - acc: 0.9998 - val_loss: 0.3613 - val_acc: 0.9219\n",
            "Epoch 31/40\n",
            "74/74 [==============================] - 35s 478ms/step - loss: 0.0012 - acc: 0.9998 - val_loss: 0.3364 - val_acc: 0.9266\n",
            "Epoch 32/40\n",
            "74/74 [==============================] - 35s 478ms/step - loss: 5.3689e-04 - acc: 1.0000 - val_loss: 0.3198 - val_acc: 0.9359\n",
            "Epoch 33/40\n",
            "74/74 [==============================] - 35s 478ms/step - loss: 4.1753e-04 - acc: 1.0000 - val_loss: 0.3221 - val_acc: 0.9359\n",
            "Epoch 34/40\n",
            "74/74 [==============================] - 35s 478ms/step - loss: 3.6698e-04 - acc: 1.0000 - val_loss: 0.3289 - val_acc: 0.9359\n",
            "Epoch 35/40\n",
            "74/74 [==============================] - 35s 478ms/step - loss: 3.3092e-04 - acc: 1.0000 - val_loss: 0.3269 - val_acc: 0.9375\n",
            "Epoch 36/40\n",
            "74/74 [==============================] - 35s 478ms/step - loss: 3.0031e-04 - acc: 1.0000 - val_loss: 0.3295 - val_acc: 0.9375\n",
            "Epoch 37/40\n",
            "74/74 [==============================] - 35s 478ms/step - loss: 2.7310e-04 - acc: 1.0000 - val_loss: 0.3323 - val_acc: 0.9375\n",
            "Epoch 38/40\n",
            "74/74 [==============================] - 35s 478ms/step - loss: 2.5216e-04 - acc: 1.0000 - val_loss: 0.3314 - val_acc: 0.9375\n",
            "Epoch 39/40\n",
            "74/74 [==============================] - 35s 479ms/step - loss: 2.3306e-04 - acc: 1.0000 - val_loss: 0.3354 - val_acc: 0.9375\n",
            "Epoch 40/40\n",
            "74/74 [==============================] - 35s 479ms/step - loss: 2.1599e-04 - acc: 1.0000 - val_loss: 0.3368 - val_acc: 0.9359\n"
          ],
          "name": "stdout"
        }
      ]
    },
    {
      "cell_type": "code",
      "metadata": {
        "id": "p39Z2NnwNF_S",
        "colab_type": "code",
        "colab": {}
      },
      "source": [
        "his2.history[\"loss\"].extend(his3.history[\"loss\"])\n",
        "his2.history[\"loss\"].extend(his3.history[\"loss\"])"
      ],
      "execution_count": 0,
      "outputs": []
    },
    {
      "cell_type": "code",
      "metadata": {
        "id": "SH1mxYf6LnXo",
        "colab_type": "code",
        "outputId": "942aa145-e574-40e0-dbe9-77b8a80a61eb",
        "colab": {
          "base_uri": "https://localhost:8080/",
          "height": 312
        }
      },
      "source": [
        "plt.plot(np.arange(0, 40), his2.history[\"loss\"], label=\"train_loss\")\n",
        "plt.plot(np.arange(0, 40), his2.history[\"val_loss\"], label=\"val_loss\")\n",
        "plt.title(\"Loss\")\n",
        "plt.xlabel(\"Epochs\")\n",
        "plt.ylabel(\"Loss\")\n",
        "plt.legend(loc=\"best\")"
      ],
      "execution_count": 0,
      "outputs": [
        {
          "output_type": "execute_result",
          "data": {
            "text/plain": [
              "<matplotlib.legend.Legend at 0x7fc4bb6682e8>"
            ]
          },
          "metadata": {
            "tags": []
          },
          "execution_count": 127
        },
        {
          "output_type": "display_data",
          "data": {
            "image/png": "[encoded data removed]",
            "text/plain": [
              "<Figure size 432x288 with 1 Axes>"
            ]
          },
          "metadata": {
            "tags": []
          }
        }
      ]
    },
    {
      "cell_type": "code",
      "metadata": {
        "id": "D_OWtd2KL7Rj",
        "colab_type": "code",
        "colab": {}
      },
      "source": [
        "from keras.models import load_model\n",
        "\n",
        "final_model = load_model(\"/content/Model_wrn.val-acc=0.93.val-loss=0.32.h5\")"
      ],
      "execution_count": 0,
      "outputs": []
    },
    {
      "cell_type": "code",
      "metadata": {
        "id": "AJPCy8l1N5pa",
        "colab_type": "code",
        "outputId": "c1415b69-23d8-4c41-8ae3-b837fb2460eb",
        "colab": {
          "base_uri": "https://localhost:8080/",
          "height": 34
        }
      },
      "source": [
        "len(X_test)"
      ],
      "execution_count": 0,
      "outputs": [
        {
          "output_type": "execute_result",
          "data": {
            "text/plain": [
              "3297"
            ]
          },
          "metadata": {
            "tags": []
          },
          "execution_count": 133
        }
      ]
    },
    {
      "cell_type": "code",
      "metadata": {
        "id": "BBXeeSBaOhl4",
        "colab_type": "code",
        "colab": {}
      },
      "source": [
        "y_pred = []\n",
        "\n",
        "for i in range(len(X_test)):\n",
        "  p = normalize(X_test[i])\n",
        "  p = p.reshape(num_rows, num_columns, num_channels)\n",
        "  pred = final_model.predict(p[None, ...])\n",
        "  pred = np.argmax(pred)\n",
        "  y_pred.append(pred)"
      ],
      "execution_count": 0,
      "outputs": []
    },
    {
      "cell_type": "code",
      "metadata": {
        "id": "F2T1Clu8RTue",
        "colab_type": "code",
        "colab": {}
      },
      "source": [
        "y_names = le.inverse_transform(y_pred)"
      ],
      "execution_count": 0,
      "outputs": []
    },
    {
      "cell_type": "code",
      "metadata": {
        "id": "Mg-l6UM6SYtd",
        "colab_type": "code",
        "colab": {}
      },
      "source": [
        "test[\"Class\"] = y_names"
      ],
      "execution_count": 0,
      "outputs": []
    },
    {
      "cell_type": "code",
      "metadata": {
        "id": "iUn_DoVXSw60",
        "colab_type": "code",
        "colab": {}
      },
      "source": [
        "test.to_csv(\"UrbanSub1.csv\", index=False)"
      ],
      "execution_count": 0,
      "outputs": []
    },
    {
      "cell_type": "code",
      "metadata": {
        "id": "GSTBj6CGaz8M",
        "colab_type": "code",
        "colab": {}
      },
      "source": [
        "y_pred = []\n",
        "\n",
        "for i in range(len(X_test)):\n",
        "  p = X_test[i]\n",
        "  p = p.reshape(num_rows, num_columns, num_channels)\n",
        "  pred = model.predict(p[None, ...])\n",
        "  pred = np.argmax(pred)\n",
        "  y_pred.append(pred)"
      ],
      "execution_count": 0,
      "outputs": []
    },
    {
      "cell_type": "code",
      "metadata": {
        "id": "3EcXg6B9bPHm",
        "colab_type": "code",
        "colab": {}
      },
      "source": [
        "y_names = le.inverse_transform(y_pred)"
      ],
      "execution_count": 0,
      "outputs": []
    },
    {
      "cell_type": "code",
      "metadata": {
        "id": "2MsUx8TPbU8k",
        "colab_type": "code",
        "colab": {}
      },
      "source": [
        "test[\"Class\"] = y_names"
      ],
      "execution_count": 0,
      "outputs": []
    },
    {
      "cell_type": "code",
      "metadata": {
        "id": "0FnYkKlqbaH2",
        "colab_type": "code",
        "colab": {}
      },
      "source": [
        "test.to_csv(\"UrbanSub2.csv\", index=False)"
      ],
      "execution_count": 0,
      "outputs": []
    }
  ]
}